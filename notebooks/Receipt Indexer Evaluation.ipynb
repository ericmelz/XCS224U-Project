{
 "cells": [
  {
   "cell_type": "code",
   "execution_count": 1,
   "metadata": {},
   "outputs": [],
   "source": [
    "import pandas as pd\n",
    "from os import listdir, getcwd\n",
    "from os.path import join\n",
    "from pathlib import Path\n",
    "from datetime import datetime\n",
    "from ir import IndexDataframe, make_dictionary, make_raw_to_web, evaluate, search_loop,\\\n",
    "Config, SimpleQueryMaker, SimpleSearcher, \\\n",
    "WildQueryMaker, MashedWildQueryMaker, BoostedNgramWildQueryMaker, FuzzyNgramWildQueryMaker\n",
    "from org.apache.lucene.analysis.standard import StandardAnalyzer"
   ]
  },
  {
   "cell_type": "markdown",
   "metadata": {},
   "source": [
    "## Setup"
   ]
  },
  {
   "cell_type": "code",
   "execution_count": 2,
   "metadata": {},
   "outputs": [
    {
     "name": "stdout",
     "output_type": "stream",
     "text": [
      ".done\n",
      "Elapsed: 0:00:00.443070\n"
     ]
    }
   ],
   "source": [
    "INDEX_DIR = \"indexes/receipts2\"\n",
    "\n",
    "home = getcwd()\n",
    "home_path = Path(home)\n",
    "data_path = join(home_path.parent, 'data/raw_web_joined')\n",
    "files = [join(data_path, file) for file in listdir(data_path)]\n",
    "\n",
    "dfs = [pd.read_json(file) for file in files]\n",
    "df = pd.concat(dfs)\n",
    "\n",
    "def index_test(quiet=False):\n",
    "    start = datetime.now()\n",
    "    try:\n",
    "        IndexDataframe(df, INDEX_DIR, StandardAnalyzer(), quiet)\n",
    "        end = datetime.now()\n",
    "        print('Elapsed: %s' % (end - start))\n",
    "    except Exception as e:\n",
    "        print(\"Failed: %s\" % e)\n",
    "        raise e    \n",
    "\n",
    "index_test(True)\n",
    "\n",
    "WORDS = make_dictionary(df)\n",
    "RAW_TO_WEB = make_raw_to_web(df)\n",
    "queries = df.raw.unique()"
   ]
  },
  {
   "cell_type": "markdown",
   "metadata": {},
   "source": [
    "## Baseline"
   ]
  },
  {
   "cell_type": "code",
   "execution_count": 3,
   "metadata": {},
   "outputs": [
    {
     "data": {
      "text/plain": [
       "0.46959459459459457"
      ]
     },
     "execution_count": 3,
     "metadata": {},
     "output_type": "execute_result"
    }
   ],
   "source": [
    "qm = SimpleQueryMaker()\n",
    "ss = SimpleSearcher(INDEX_DIR)\n",
    "simple_config = Config(qm, ss)\n",
    "simple_score, simple_misses = evaluate(queries, simple_config, RAW_TO_WEB)\n",
    "\n",
    "simple_score"
   ]
  },
  {
   "cell_type": "markdown",
   "metadata": {},
   "source": [
    "## Basic Wildcard"
   ]
  },
  {
   "cell_type": "code",
   "execution_count": 4,
   "metadata": {},
   "outputs": [
    {
     "data": {
      "text/plain": [
       "0.7162162162162162"
      ]
     },
     "execution_count": 4,
     "metadata": {},
     "output_type": "execute_result"
    }
   ],
   "source": [
    "wqm = WildQueryMaker(WORDS)\n",
    "wild_config = Config(wqm, ss)\n",
    "wild_score, wild_misses = evaluate(queries, wild_config, RAW_TO_WEB)\n",
    "\n",
    "wild_score"
   ]
  },
  {
   "cell_type": "markdown",
   "metadata": {},
   "source": [
    "## Mashed Wildcard"
   ]
  },
  {
   "cell_type": "code",
   "execution_count": 5,
   "metadata": {},
   "outputs": [
    {
     "data": {
      "text/plain": [
       "0.7601351351351351"
      ]
     },
     "execution_count": 5,
     "metadata": {},
     "output_type": "execute_result"
    }
   ],
   "source": [
    "mwqm = MashedWildQueryMaker(WORDS)\n",
    "mashed_wild_config = Config(mwqm, ss)\n",
    "mashed_wild_score, mashed_wild_misses = evaluate(queries, mashed_wild_config, RAW_TO_WEB)\n",
    "\n",
    "mashed_wild_score"
   ]
  },
  {
   "cell_type": "markdown",
   "metadata": {},
   "source": [
    "## Ngrams"
   ]
  },
  {
   "cell_type": "code",
   "execution_count": 6,
   "metadata": {},
   "outputs": [
    {
     "data": {
      "text/plain": [
       "0.7668918918918919"
      ]
     },
     "execution_count": 6,
     "metadata": {},
     "output_type": "execute_result"
    }
   ],
   "source": [
    "bnwqm = BoostedNgramWildQueryMaker(WORDS)\n",
    "bngram_wild_config = Config(bnwqm, ss)\n",
    "bngram_wild_score, bngram_wild_misses = evaluate(queries, bngram_wild_config, RAW_TO_WEB)\n",
    "\n",
    "bngram_wild_score"
   ]
  },
  {
   "cell_type": "markdown",
   "metadata": {},
   "source": [
    "## Fuzzy Ngrams"
   ]
  },
  {
   "cell_type": "code",
   "execution_count": 7,
   "metadata": {},
   "outputs": [
    {
     "data": {
      "text/plain": [
       "0.7871621621621622"
      ]
     },
     "execution_count": 7,
     "metadata": {},
     "output_type": "execute_result"
    }
   ],
   "source": [
    "fnwqm = FuzzyNgramWildQueryMaker(WORDS)\n",
    "fngram_wild_config = Config(fnwqm, ss)\n",
    "fngram_wild_score, fngram_wild_misses = evaluate(queries, fngram_wild_config, RAW_TO_WEB)\n",
    "\n",
    "fngram_wild_score"
   ]
  },
  {
   "cell_type": "markdown",
   "metadata": {},
   "source": [
    "## Summary"
   ]
  },
  {
   "cell_type": "code",
   "execution_count": 8,
   "metadata": {},
   "outputs": [
    {
     "data": {
      "text/html": [
       "<div>\n",
       "<style scoped>\n",
       "    .dataframe tbody tr th:only-of-type {\n",
       "        vertical-align: middle;\n",
       "    }\n",
       "\n",
       "    .dataframe tbody tr th {\n",
       "        vertical-align: top;\n",
       "    }\n",
       "\n",
       "    .dataframe thead th {\n",
       "        text-align: right;\n",
       "    }\n",
       "</style>\n",
       "<table border=\"1\" class=\"dataframe\">\n",
       "  <thead>\n",
       "    <tr style=\"text-align: right;\">\n",
       "      <th></th>\n",
       "      <th>score</th>\n",
       "    </tr>\n",
       "    <tr>\n",
       "      <th>label</th>\n",
       "      <th></th>\n",
       "    </tr>\n",
       "  </thead>\n",
       "  <tbody>\n",
       "    <tr>\n",
       "      <th>Baseline</th>\n",
       "      <td>0.47</td>\n",
       "    </tr>\n",
       "    <tr>\n",
       "      <th>Basic Wildcard</th>\n",
       "      <td>0.72</td>\n",
       "    </tr>\n",
       "    <tr>\n",
       "      <th>Mashed Wildcard</th>\n",
       "      <td>0.76</td>\n",
       "    </tr>\n",
       "    <tr>\n",
       "      <th>Ngrams</th>\n",
       "      <td>0.77</td>\n",
       "    </tr>\n",
       "    <tr>\n",
       "      <th>Fuzzy Ngrams</th>\n",
       "      <td>0.79</td>\n",
       "    </tr>\n",
       "  </tbody>\n",
       "</table>\n",
       "</div>"
      ],
      "text/plain": [
       "                 score\n",
       "label                 \n",
       "Baseline          0.47\n",
       "Basic Wildcard    0.72\n",
       "Mashed Wildcard   0.76\n",
       "Ngrams            0.77\n",
       "Fuzzy Ngrams      0.79"
      ]
     },
     "execution_count": 8,
     "metadata": {},
     "output_type": "execute_result"
    }
   ],
   "source": [
    "df2 = pd.DataFrame([{'label': 'Baseline', 'score':simple_score}, \n",
    "                    {'label': 'Basic Wildcard', 'score':wild_score},\n",
    "                    {'label': 'Mashed Wildcard', 'score':mashed_wild_score},\n",
    "                    {'label': 'Ngrams', 'score': bngram_wild_score},\n",
    "                    {'label': 'Fuzzy Ngrams', 'score': fngram_wild_score}])\n",
    "df2.set_index(keys='label', drop=True, inplace=True)\n",
    "pd.set_option('precision', 2)\n",
    "df2"
   ]
  },
  {
   "cell_type": "code",
   "execution_count": null,
   "metadata": {},
   "outputs": [],
   "source": []
  }
 ],
 "metadata": {
  "kernelspec": {
   "display_name": "Python 3",
   "language": "python",
   "name": "python3"
  },
  "language_info": {
   "codemirror_mode": {
    "name": "ipython",
    "version": 3
   },
   "file_extension": ".py",
   "mimetype": "text/x-python",
   "name": "python",
   "nbconvert_exporter": "python",
   "pygments_lexer": "ipython3",
   "version": "3.7.7"
  }
 },
 "nbformat": 4,
 "nbformat_minor": 4
}
