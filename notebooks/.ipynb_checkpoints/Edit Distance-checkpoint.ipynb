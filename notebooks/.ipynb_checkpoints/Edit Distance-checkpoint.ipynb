{
 "cells": [
  {
   "cell_type": "markdown",
   "metadata": {},
   "source": [
    "# Edit Distance\n",
    "calculate the edit distance between 2 strings"
   ]
  },
  {
   "cell_type": "code",
   "execution_count": 25,
   "metadata": {},
   "outputs": [],
   "source": [
    "def edit_distance(s1, s2):\n",
    "    \"\"\"\n",
    "    Compute min # of insertions, deletions, and replacements to transfrom s1 into s2\n",
    "    \"\"\"\n",
    "    # init m x n array\n",
    "    # first row, column represent blanks\n",
    "    # moves down represent consuming a char of s1 without emitting to s2\n",
    "    # moves right represent an insertion into s2 without emitting to s2\n",
    "    # moves diagonal represent copy (free) or replacement (copy s1's char + mutate into s2's char)\n",
    "    m = len(s1) + 1\n",
    "    n = len(s2) + 1\n",
    "    a = [[0 for j in range(n)] for i in range(m)]\n",
    "    for i in range(1, m):\n",
    "        for j in range(1, n):\n",
    "            copy_or_replace = a[i-1][j-1] if s1[i-1] == s2[j-1] else 1 + a[i-1][j-1]\n",
    "            insert = 1 + a[i][j-1]\n",
    "            delete = 1 + a[i-1][j]\n",
    "            a[i][j] = min(copy_or_replace, insert, delete)\n",
    "    return a[-1][-1]"
   ]
  },
  {
   "cell_type": "code",
   "execution_count": 26,
   "metadata": {},
   "outputs": [
    {
     "data": {
      "text/plain": [
       "3"
      ]
     },
     "execution_count": 26,
     "metadata": {},
     "output_type": "execute_result"
    }
   ],
   "source": [
    "edit_distance('smrtwtr', 'smartwater')"
   ]
  },
  {
   "cell_type": "code",
   "execution_count": null,
   "metadata": {},
   "outputs": [],
   "source": []
  }
 ],
 "metadata": {
  "kernelspec": {
   "display_name": "Python 3",
   "language": "python",
   "name": "python3"
  },
  "language_info": {
   "codemirror_mode": {
    "name": "ipython",
    "version": 3
   },
   "file_extension": ".py",
   "mimetype": "text/x-python",
   "name": "python",
   "nbconvert_exporter": "python",
   "pygments_lexer": "ipython3",
   "version": "3.6.5"
  }
 },
 "nbformat": 4,
 "nbformat_minor": 2
}
