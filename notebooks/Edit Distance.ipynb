{
 "cells": [
  {
   "cell_type": "markdown",
   "metadata": {},
   "source": [
    "# Edit Distance\n",
    "calculate the edit distance between 2 strings"
   ]
  },
  {
   "cell_type": "code",
   "execution_count": 1,
   "metadata": {},
   "outputs": [],
   "source": [
    "import numpy as np\n",
    "import pandas as pd\n",
    "import math"
   ]
  },
  {
   "cell_type": "code",
   "execution_count": 2,
   "metadata": {},
   "outputs": [],
   "source": [
    "def edit_distance(s1, s2, insertion_penalty=1):\n",
    "    \"\"\"\n",
    "    Compute min # of insertions, deletions, and replacements to transfrom s1 into s2\n",
    "    \"\"\"\n",
    "    # init m x n array\n",
    "    # first row, column represent blanks\n",
    "    # moves down represent consuming a char of s1 without emitting to s2\n",
    "    # moves right represent an insertion into s2 without emitting to s2\n",
    "    # moves diagonal represent copy (free) or replacement (copy s1's char + mutate into s2's char)\n",
    "    m = len(s1) + 1\n",
    "    n = len(s2) + 1\n",
    "    a = [[0 for j in range(n)] for i in range(m)]\n",
    "    for i in range(1, m):\n",
    "        a[i][0] = i\n",
    "    for j in range(1, n):\n",
    "        a[0][j] = i\n",
    "    for i in range(1, m):\n",
    "        for j in range(1, n):\n",
    "            copy_or_replace = a[i-1][j-1] if s1[i-1] == s2[j-1] else 1 + a[i-1][j-1]\n",
    "            insert = insertion_penalty + a[i][j-1]\n",
    "            delete = 1 + a[i-1][j]\n",
    "            a[i][j] = min(copy_or_replace, insert, delete)\n",
    "    return a[-1][-1]"
   ]
  },
  {
   "cell_type": "code",
   "execution_count": 3,
   "metadata": {},
   "outputs": [],
   "source": [
    "def edit_distance_free_insertion(s1, s2):\n",
    "    return edit_distance(s1, s2, insertion_penalty=0)"
   ]
  },
  {
   "cell_type": "code",
   "execution_count": 4,
   "metadata": {},
   "outputs": [],
   "source": [
    "def edit_distance_cheap_insertion(s1, s2):    \n",
    "    expected_insertions = len(s2) - len(s1)\n",
    "    total_insertion_penalty = math.log(expected_insertions, 2) if expected_insertions > 0 else 0\n",
    "    per_char_insertion_penalty = total_insertion_penalty / expected_insertions if expected_insertions > 0 else 0\n",
    "    return edit_distance(s1, s2, insertion_penalty=per_char_insertion_penalty)"
   ]
  },
  {
   "cell_type": "code",
   "execution_count": 5,
   "metadata": {},
   "outputs": [
    {
     "data": {
      "text/plain": [
       "3"
      ]
     },
     "execution_count": 5,
     "metadata": {},
     "output_type": "execute_result"
    }
   ],
   "source": [
    "edit_distance('smrtwtr', 'smartwater')"
   ]
  },
  {
   "cell_type": "code",
   "execution_count": 6,
   "metadata": {},
   "outputs": [],
   "source": [
    "def similarity(s1, s2):\n",
    "    max_distance = max(len(s1), len(s2))\n",
    "    return 1 - edit_distance(s1, s2) / max_distance"
   ]
  },
  {
   "cell_type": "code",
   "execution_count": 7,
   "metadata": {},
   "outputs": [],
   "source": [
    "def similarity_free_insertion(s1, s2):\n",
    "    max_distance = min(len(s1), len(s2))\n",
    "    return 1 - edit_distance_free_insertion(s1, s2) / max_distance"
   ]
  },
  {
   "cell_type": "code",
   "execution_count": 8,
   "metadata": {},
   "outputs": [],
   "source": [
    "def similarity_cheap_insertion(s1, s2):\n",
    "    expected_insertions = max(0, len(s2) - len(s1))\n",
    "    max_distance = min(len(s1), len(s2)) + (math.log(expected_insertions,2) if expected_insertions > 0 else 0)\n",
    "    return 1 - edit_distance_cheap_insertion(s1, s2) / max_distance"
   ]
  },
  {
   "cell_type": "code",
   "execution_count": 9,
   "metadata": {},
   "outputs": [
    {
     "data": {
      "text/plain": [
       "0.7"
      ]
     },
     "execution_count": 9,
     "metadata": {},
     "output_type": "execute_result"
    }
   ],
   "source": [
    "similarity('smrtwtr', 'smartwater')"
   ]
  },
  {
   "cell_type": "code",
   "execution_count": 10,
   "metadata": {},
   "outputs": [
    {
     "data": {
      "text/plain": [
       "1.0"
      ]
     },
     "execution_count": 10,
     "metadata": {},
     "output_type": "execute_result"
    }
   ],
   "source": [
    "similarity_free_insertion('smrtwtr', 'smartwater')"
   ]
  },
  {
   "cell_type": "code",
   "execution_count": 11,
   "metadata": {},
   "outputs": [
    {
     "data": {
      "text/plain": [
       "0.8153792167888892"
      ]
     },
     "execution_count": 11,
     "metadata": {},
     "output_type": "execute_result"
    }
   ],
   "source": [
    "similarity_cheap_insertion('smrtwtr', 'smartwater')"
   ]
  },
  {
   "cell_type": "code",
   "execution_count": 12,
   "metadata": {},
   "outputs": [
    {
     "data": {
      "text/plain": [
       "0.5714285714285714"
      ]
     },
     "execution_count": 12,
     "metadata": {},
     "output_type": "execute_result"
    }
   ],
   "source": [
    "similarity_cheap_insertion('smartwater', 'smrtwtr')"
   ]
  },
  {
   "cell_type": "code",
   "execution_count": 13,
   "metadata": {},
   "outputs": [],
   "source": [
    "def phrase_similarity(p1, p2, similarity=similarity):\n",
    "    \"\"\"\n",
    "    Compute similarity of 2 phrases\n",
    "    \"\"\"\n",
    "    l1 = p1.split()\n",
    "    l2 = p2.split()\n",
    "    shorter = l1 if len(l1) < len(l2) else l2\n",
    "    longer = l2 if l1 == shorter else l1\n",
    "    shorter.sort(key=lambda x: -len(x))\n",
    "    res = []\n",
    "    res2 = []\n",
    "    for i, w1 in enumerate(shorter):\n",
    "        scores = [w1] + [(w2, similarity(w1, w2)) for w2 in longer]\n",
    "        res.append(scores)\n",
    "    for w1 in shorter:\n",
    "        scores = [similarity(w1, w2) for w2 in longer]\n",
    "        max_score = max(scores)\n",
    "        max_score_idx = np.array(scores).argmax()\n",
    "        res2.append((max_score, w1, longer[max_score_idx]))\n",
    "        if max_score:\n",
    "            del longer[max_score_idx]\n",
    "            \n",
    "    avg_score = np.average(np.array([score for score, _, _ in res2], dtype=float))\n",
    "\n",
    "#     return res, res2, avg_score\n",
    "    return avg_score"
   ]
  },
  {
   "cell_type": "code",
   "execution_count": 14,
   "metadata": {},
   "outputs": [
    {
     "data": {
      "text/plain": [
       "0.5583333333333333"
      ]
     },
     "execution_count": 14,
     "metadata": {},
     "output_type": "execute_result"
    }
   ],
   "source": [
    "phrase_similarity('SFTSOAP KTCHN FRSH', 'Softsoap Fresh Breeze Liquid Hand Soap'.upper())"
   ]
  },
  {
   "cell_type": "code",
   "execution_count": 15,
   "metadata": {},
   "outputs": [
    {
     "data": {
      "text/plain": [
       "0.75"
      ]
     },
     "execution_count": 15,
     "metadata": {},
     "output_type": "execute_result"
    }
   ],
   "source": [
    "phrase_similarity('SFTSOAP KTCHN FRSH', 'Softsoap Fresh Breeze Liquid Hand Soap'.upper(), similarity=similarity_free_insertion)"
   ]
  },
  {
   "cell_type": "code",
   "execution_count": 16,
   "metadata": {},
   "outputs": [
    {
     "data": {
      "text/plain": [
       "0.75"
      ]
     },
     "execution_count": 16,
     "metadata": {},
     "output_type": "execute_result"
    }
   ],
   "source": [
    "phrase_similarity('SFTSOAP KTCHN FRSH', 'Softsoap Fresh Breeze Liquid Hand Soap'.upper(), similarity=similarity_cheap_insertion)"
   ]
  },
  {
   "cell_type": "code",
   "execution_count": 17,
   "metadata": {},
   "outputs": [],
   "source": [
    "def matches(short_phrase, df, similarity_fn=similarity):\n",
    "    df2 = df.copy()\n",
    "    df2['score'] = df2.apply(lambda x: phrase_similarity(short_phrase, x['upper_web'], similarity=similarity_fn), axis=1)\n",
    "    df2.sort_values('score', ascending=False, inplace=True)\n",
    "    return df2"
   ]
  },
  {
   "cell_type": "code",
   "execution_count": 18,
   "metadata": {},
   "outputs": [],
   "source": [
    "def match_1(short_phrase, df, similarity_fn=similarity):\n",
    "    df2 = matches(short_phrase, df, similarity_fn=similarity_fn)\n",
    "    return df2.iloc[0]['web']"
   ]
  },
  {
   "cell_type": "code",
   "execution_count": 19,
   "metadata": {},
   "outputs": [],
   "source": [
    "def match_2(short_phrase, df, similarity_fn=similarity):\n",
    "    df2 = matches(short_phrase, df, similarity_fn=similarity_fn)\n",
    "    return df2.iloc[1]['web']"
   ]
  },
  {
   "cell_type": "code",
   "execution_count": 20,
   "metadata": {},
   "outputs": [],
   "source": [
    "def match_3(short_phrase, df, similarity_fn=similarity):\n",
    "    df2 = matches(short_phrase, df, similarity_fn=similarity_fn)\n",
    "    return df2.iloc[2]['web']"
   ]
  },
  {
   "cell_type": "code",
   "execution_count": 21,
   "metadata": {},
   "outputs": [],
   "source": [
    "def find_matches(df, similarity_fn=similarity):\n",
    "    df['upper_web'] = df.apply(lambda x: x['web'].upper() ,axis=1)\n",
    "    df['match_1'] = df.apply(lambda x: match_1(x['raw'], df, similarity_fn=similarity_fn), axis=1)\n",
    "    df['match_2'] = df.apply(lambda x: match_2(x['raw'], df, similarity_fn=similarity_fn), axis=1)\n",
    "    df['match_3'] = df.apply(lambda x: match_3(x['raw'], df, similarity_fn=similarity_fn), axis=1)\n",
    "    df['correct_1'] = df.apply(lambda x: x['match_1'] == x['web'], axis=1)\n",
    "    df['correct_2'] = df.apply(lambda x: x['match_2'] == x['web'], axis=1)  \n",
    "    df['correct_3'] = df.apply(lambda x: x['match_3'] == x['web'], axis=1)    \n",
    "    df['correct_any'] = df.apply(lambda x: x['correct_1'] or x['correct_2'] or x['correct_3'], axis=1)        "
   ]
  },
  {
   "cell_type": "code",
   "execution_count": 22,
   "metadata": {},
   "outputs": [
    {
     "data": {
      "text/plain": [
       "0.4365079365079365"
      ]
     },
     "execution_count": 22,
     "metadata": {},
     "output_type": "execute_result"
    }
   ],
   "source": [
    "phrase_similarity('ASP ORG', 'ORGANIC - ASPARAGUS')"
   ]
  },
  {
   "cell_type": "code",
   "execution_count": 23,
   "metadata": {},
   "outputs": [
    {
     "data": {
      "text/plain": [
       "1.0"
      ]
     },
     "execution_count": 23,
     "metadata": {},
     "output_type": "execute_result"
    }
   ],
   "source": [
    "phrase_similarity('ASP ORG', 'ORGANIC - ASPARAGUS', similarity=similarity_free_insertion)"
   ]
  },
  {
   "cell_type": "code",
   "execution_count": 24,
   "metadata": {},
   "outputs": [
    {
     "data": {
      "text/plain": [
       "0.568578347626562"
      ]
     },
     "execution_count": 24,
     "metadata": {},
     "output_type": "execute_result"
    }
   ],
   "source": [
    "phrase_similarity('ASP ORG', 'ORGANIC - ASPARAGUS', similarity=similarity_cheap_insertion)"
   ]
  },
  {
   "cell_type": "code",
   "execution_count": 25,
   "metadata": {},
   "outputs": [
    {
     "data": {
      "text/plain": [
       "0.45833333333333337"
      ]
     },
     "execution_count": 25,
     "metadata": {},
     "output_type": "execute_result"
    }
   ],
   "source": [
    "phrase_similarity('ASP ORG', 'Del Cabo Cucumber Og 16 Oz'.upper())"
   ]
  },
  {
   "cell_type": "code",
   "execution_count": 26,
   "metadata": {},
   "outputs": [
    {
     "data": {
      "text/plain": [
       "0.25"
      ]
     },
     "execution_count": 26,
     "metadata": {},
     "output_type": "execute_result"
    }
   ],
   "source": [
    "phrase_similarity('ASP ORG', 'Del Cabo Cucumber Og 16 Oz'.upper(), similarity=similarity_free_insertion)"
   ]
  },
  {
   "cell_type": "code",
   "execution_count": 27,
   "metadata": {},
   "outputs": [
    {
     "data": {
      "text/plain": [
       "0.25"
      ]
     },
     "execution_count": 27,
     "metadata": {},
     "output_type": "execute_result"
    }
   ],
   "source": [
    "phrase_similarity('ASP ORG', 'Del Cabo Cucumber Og 16 Oz'.upper(), similarity_cheap_insertion)"
   ]
  },
  {
   "cell_type": "code",
   "execution_count": 28,
   "metadata": {},
   "outputs": [],
   "source": [
    "def precision_at_1(df):\n",
    "    s = df['correct_1'].value_counts()\n",
    "    return s.loc[True] / (s.loc[True] + s.loc[False])"
   ]
  },
  {
   "cell_type": "code",
   "execution_count": 29,
   "metadata": {},
   "outputs": [],
   "source": [
    "def precision_at_3(df):\n",
    "    s = df['correct_any'].value_counts()\n",
    "    return s.loc[True] / (s.loc[True] + s.loc[False])"
   ]
  },
  {
   "cell_type": "code",
   "execution_count": 30,
   "metadata": {},
   "outputs": [
    {
     "name": "stdout",
     "output_type": "stream",
     "text": [
      "Created `%t` as an alias for `%timeit`.\n",
      "Created `%%t` as an alias for `%%timeit`.\n"
     ]
    }
   ],
   "source": [
    "%alias_magic t timeit"
   ]
  },
  {
   "cell_type": "code",
   "execution_count": 31,
   "metadata": {},
   "outputs": [
    {
     "name": "stdout",
     "output_type": "stream",
     "text": [
      "67.1 µs ± 5.71 µs per loop (mean ± std. dev. of 7 runs, 1 loop each)\n"
     ]
    }
   ],
   "source": [
    "%t -n1 edit_distance('smrtwtr', 'smartwater')"
   ]
  },
  {
   "cell_type": "code",
   "execution_count": 32,
   "metadata": {},
   "outputs": [],
   "source": [
    "def experiment(similarity_fn=similarity):\n",
    "    path = '../data/raw_web_joined/703_00198_2020-03-20_3_1391204_joined.json'\n",
    "    df = pd.read_json(path)\n",
    "    find_matches(df, similarity_fn=similarity_fn)\n",
    "    p1 = precision_at_1(df)\n",
    "    p3 = precision_at_3(df)\n",
    "    stats = pd.Series({'p_1': p1, 'p_3': p3})\n",
    "    return stats"
   ]
  },
  {
   "cell_type": "code",
   "execution_count": 33,
   "metadata": {},
   "outputs": [
    {
     "data": {
      "text/plain": [
       "p_1    0.702381\n",
       "p_3    0.892857\n",
       "dtype: float64"
      ]
     },
     "execution_count": 33,
     "metadata": {},
     "output_type": "execute_result"
    }
   ],
   "source": [
    "e1 = experiment()\n",
    "e1"
   ]
  },
  {
   "cell_type": "code",
   "execution_count": 34,
   "metadata": {},
   "outputs": [
    {
     "data": {
      "text/plain": [
       "p_1    0.630952\n",
       "p_3    0.857143\n",
       "dtype: float64"
      ]
     },
     "execution_count": 34,
     "metadata": {},
     "output_type": "execute_result"
    }
   ],
   "source": [
    "e2 = experiment(similarity_fn=similarity_free_insertion)\n",
    "e2"
   ]
  },
  {
   "cell_type": "code",
   "execution_count": 35,
   "metadata": {},
   "outputs": [
    {
     "data": {
      "text/plain": [
       "p_1    0.702381\n",
       "p_3    0.880952\n",
       "dtype: float64"
      ]
     },
     "execution_count": 35,
     "metadata": {},
     "output_type": "execute_result"
    }
   ],
   "source": [
    "e3 = experiment(similarity_fn=similarity_cheap_insertion)\n",
    "e3"
   ]
  },
  {
   "cell_type": "code",
   "execution_count": 37,
   "metadata": {},
   "outputs": [],
   "source": [
    "# TODO\n",
    "# why doesn't free/cheap insertions work well?  See ASP ORG example above\n",
    "# maybe memoize similarity"
   ]
  },
  {
   "cell_type": "code",
   "execution_count": null,
   "metadata": {},
   "outputs": [],
   "source": []
  }
 ],
 "metadata": {
  "kernelspec": {
   "display_name": "Python 3",
   "language": "python",
   "name": "python3"
  },
  "language_info": {
   "codemirror_mode": {
    "name": "ipython",
    "version": 3
   },
   "file_extension": ".py",
   "mimetype": "text/x-python",
   "name": "python",
   "nbconvert_exporter": "python",
   "pygments_lexer": "ipython3",
   "version": "3.7.6"
  }
 },
 "nbformat": 4,
 "nbformat_minor": 2
}
