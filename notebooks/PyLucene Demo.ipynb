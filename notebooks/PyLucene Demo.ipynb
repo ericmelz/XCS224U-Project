{
 "cells": [
  {
   "cell_type": "markdown",
   "metadata": {},
   "source": [
    "# PyLucene\n",
    "\n",
    "This demonstrates using Lucene to index files and search them\n",
    "\n",
    "To setup PyLucene:\n",
    "```\n",
    "conda activate nlu\n",
    "cd pylucene-8.1.1\n",
    "conda install jcc\n",
    "make\n",
    "make install\n",
    "```"
   ]
  },
  {
   "cell_type": "code",
   "execution_count": 1,
   "metadata": {},
   "outputs": [],
   "source": [
    "from ir import IndexFiles, search_loop\n",
    "from datetime import datetime\n",
    "from org.apache.lucene.analysis.standard import StandardAnalyzer"
   ]
  },
  {
   "cell_type": "code",
   "execution_count": 2,
   "metadata": {},
   "outputs": [],
   "source": [
    "INDEX_DIR = \"indexes/licenses\"\n",
    "DATA_DIR = \"data/licenses\""
   ]
  },
  {
   "cell_type": "code",
   "execution_count": 3,
   "metadata": {},
   "outputs": [],
   "source": [
    "def index_test1():\n",
    "    start = datetime.now()\n",
    "    try:\n",
    "        IndexFiles(DATA_DIR, INDEX_DIR, StandardAnalyzer())\n",
    "        end = datetime.now()\n",
    "        print('Elapsed: %s' % (end - start))\n",
    "    except Exception as e:\n",
    "        print(\"Failed: %s\" % e)\n",
    "        raise e    "
   ]
  },
  {
   "cell_type": "code",
   "execution_count": 4,
   "metadata": {},
   "outputs": [
    {
     "name": "stdout",
     "output_type": "stream",
     "text": [
      "adding lpgl2.0.txt\n",
      "adding epl1.0.txt\n",
      "adding gpl3.0.txt\n",
      "adding apache1.0.txt\n",
      "adding lgpl2.1.txt\n",
      "adding cpl1.0.txt\n",
      "adding gpl2.0.txt\n",
      "adding apache1.1.txt\n",
      "adding freebsd.txt\n",
      "adding apache2.0.txt\n",
      "adding mozilla_eula_firefox3.txt\n",
      "adding lgpl3.txt\n",
      "adding mozilla1.1.txt\n",
      "adding gpl1.0.txt\n",
      "adding mit.txt\n",
      "adding mozilla_eula_thunderbird2.txt\n",
      "commit index\n",
      ".done\n",
      "Elapsed: 0:00:00.173994\n"
     ]
    }
   ],
   "source": [
    "index_test1()"
   ]
  },
  {
   "cell_type": "code",
   "execution_count": 5,
   "metadata": {},
   "outputs": [
    {
     "name": "stdout",
     "output_type": "stream",
     "text": [
      "Hit enter with no input to quit.\n",
      "Query:property\n",
      "Searching for: property\n",
      "9 total matching documents.\n",
      "path: data/licenses name: epl1.0.txt\n",
      "path: data/licenses name: cpl1.0.txt\n",
      "path: data/licenses name: mozilla1.1.txt\n",
      "path: data/licenses name: mozilla_eula_firefox3.txt\n",
      "path: data/licenses name: mozilla_eula_thunderbird2.txt\n",
      "path: data/licenses name: gpl2.0.txt\n",
      "path: data/licenses name: lpgl2.0.txt\n",
      "path: data/licenses name: lgpl2.1.txt\n",
      "path: data/licenses name: gpl3.0.txt\n",
      "Query:\n"
     ]
    }
   ],
   "source": [
    "search_loop(INDEX_DIR)"
   ]
  },
  {
   "cell_type": "code",
   "execution_count": null,
   "metadata": {},
   "outputs": [],
   "source": []
  }
 ],
 "metadata": {
  "kernelspec": {
   "display_name": "Python 3",
   "language": "python",
   "name": "python3"
  },
  "language_info": {
   "codemirror_mode": {
    "name": "ipython",
    "version": 3
   },
   "file_extension": ".py",
   "mimetype": "text/x-python",
   "name": "python",
   "nbconvert_exporter": "python",
   "pygments_lexer": "ipython3",
   "version": "3.7.7"
  }
 },
 "nbformat": 4,
 "nbformat_minor": 4
}
