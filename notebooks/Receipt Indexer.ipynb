{
 "cells": [
  {
   "cell_type": "markdown",
   "metadata": {},
   "source": [
    "# Index Receipts\n"
   ]
  },
  {
   "cell_type": "code",
   "execution_count": 33,
   "metadata": {},
   "outputs": [],
   "source": [
    "from ir import IndexDataframe, search_loop, make_dictionary, make_raw_to_web, \\\n",
    "SimpleQueryMaker, WildQueryMaker, MashedWildQueryMaker, Config, SimpleSearcher, evaluate\n",
    "import pandas as pd\n",
    "from datetime import datetime\n",
    "from org.apache.lucene.analysis.standard import StandardAnalyzer"
   ]
  },
  {
   "cell_type": "code",
   "execution_count": 2,
   "metadata": {},
   "outputs": [],
   "source": [
    "INDEX_DIR = \"indexes/receipts1\""
   ]
  },
  {
   "cell_type": "code",
   "execution_count": 3,
   "metadata": {},
   "outputs": [],
   "source": [
    "path = '../data/raw_web_joined/703_00198_2020-03-20_3_1391204_joined.json'\n",
    "df = pd.read_json(path)"
   ]
  },
  {
   "cell_type": "code",
   "execution_count": 4,
   "metadata": {},
   "outputs": [],
   "source": [
    "def index_test(quiet=False):\n",
    "    start = datetime.now()\n",
    "    try:\n",
    "        IndexDataframe(df, INDEX_DIR, StandardAnalyzer(), quiet)\n",
    "        end = datetime.now()\n",
    "        print('Elapsed: %s' % (end - start))\n",
    "    except Exception as e:\n",
    "        print(\"Failed: %s\" % e)\n",
    "        raise e    "
   ]
  },
  {
   "cell_type": "code",
   "execution_count": 5,
   "metadata": {},
   "outputs": [
    {
     "name": "stdout",
     "output_type": "stream",
     "text": [
      ".done\n",
      "Elapsed: 0:00:00.167107\n"
     ]
    }
   ],
   "source": [
    "index_test(True)"
   ]
  },
  {
   "cell_type": "code",
   "execution_count": 6,
   "metadata": {},
   "outputs": [
    {
     "name": "stdout",
     "output_type": "stream",
     "text": [
      "Hit enter with no input to quit.\n",
      "Query:\n"
     ]
    }
   ],
   "source": [
    "search_loop(INDEX_DIR, 'web')"
   ]
  },
  {
   "cell_type": "markdown",
   "metadata": {},
   "source": [
    "## Equivalency Evaluation\n",
    "```\n",
    "build a table of raw -> [web]\n",
    "where [web] is all the possible values of matches for raw\n",
    "example: 'FFST CAT FOOD' -> ['Fancy Feast Flaked Fish Cat Food', 'Purina Fancy Feast Chicken Cat Food']\n",
    "\n",
    "search on query (e.g. FFST CAT FOOD) if top result is any of the ones associated with query, it counts as a hit\n",
    "```"
   ]
  },
  {
   "cell_type": "markdown",
   "metadata": {},
   "source": [
    "## Wildcard Technique\n",
    "```\n",
    "when building a query evaluate against dictionary of seen web terms\n",
    "unseen tokens get wildcard treatment\n",
    "wildcard treatment means insert * between each letter\n",
    "e.g., FFST CAT FOOD -> F*F*S*T CAT FOOD\n",
    "since cat and food exist in dictionary\n",
    "```"
   ]
  },
  {
   "cell_type": "code",
   "execution_count": 7,
   "metadata": {},
   "outputs": [],
   "source": [
    "WORDS = make_dictionary(df)"
   ]
  },
  {
   "cell_type": "code",
   "execution_count": 8,
   "metadata": {},
   "outputs": [],
   "source": [
    "RAW_TO_WEB = make_raw_to_web(df)"
   ]
  },
  {
   "cell_type": "markdown",
   "metadata": {},
   "source": [
    "## Scoring\n",
    "### Interface\n",
    "```\n",
    "def is_hit(raw, config): -> bool\n",
    "\n",
    "config:\n",
    "  Index\n",
    "  Searcher\n",
    "  QueryMaker\n",
    "```\n",
    "\n",
    "Algorithm:\n",
    "We lookup the webs for the webs for the raw to generate the hit candidates\n",
    "we process raw into a query using QueryMaker\n",
    "We run the query using Searcher\n",
    "Index may not be necessary\n",
    "If the top result is in webs, we return true, otherwise false"
   ]
  },
  {
   "cell_type": "code",
   "execution_count": 9,
   "metadata": {},
   "outputs": [],
   "source": [
    "qm = SimpleQueryMaker()"
   ]
  },
  {
   "cell_type": "code",
   "execution_count": 10,
   "metadata": {},
   "outputs": [],
   "source": [
    "ss = SimpleSearcher(INDEX_DIR)"
   ]
  },
  {
   "cell_type": "code",
   "execution_count": 11,
   "metadata": {},
   "outputs": [],
   "source": [
    "simple_config = Config(qm, ss)"
   ]
  },
  {
   "cell_type": "code",
   "execution_count": 12,
   "metadata": {},
   "outputs": [],
   "source": [
    "queries = ['AVOCADO', 'FFST CAT FOOD']"
   ]
  },
  {
   "cell_type": "code",
   "execution_count": 13,
   "metadata": {},
   "outputs": [
    {
     "data": {
      "text/plain": [
       "(0.5, ['AVOCADO'])"
      ]
     },
     "execution_count": 13,
     "metadata": {},
     "output_type": "execute_result"
    }
   ],
   "source": [
    "evaluate(queries, simple_config, RAW_TO_WEB)"
   ]
  },
  {
   "cell_type": "code",
   "execution_count": 14,
   "metadata": {},
   "outputs": [],
   "source": [
    "queries = df.raw.unique()"
   ]
  },
  {
   "cell_type": "code",
   "execution_count": 15,
   "metadata": {},
   "outputs": [],
   "source": [
    "simple_score, simple_misses = evaluate(queries, simple_config, RAW_TO_WEB)"
   ]
  },
  {
   "cell_type": "code",
   "execution_count": 16,
   "metadata": {},
   "outputs": [
    {
     "data": {
      "text/plain": [
       "69"
      ]
     },
     "execution_count": 16,
     "metadata": {},
     "output_type": "execute_result"
    }
   ],
   "source": [
    "len(queries)"
   ]
  },
  {
   "cell_type": "code",
   "execution_count": 17,
   "metadata": {},
   "outputs": [],
   "source": [
    "wqm = WildQueryMaker(WORDS)"
   ]
  },
  {
   "cell_type": "code",
   "execution_count": 18,
   "metadata": {},
   "outputs": [],
   "source": [
    "wild_config = Config(wqm, ss)"
   ]
  },
  {
   "cell_type": "code",
   "execution_count": 19,
   "metadata": {},
   "outputs": [],
   "source": [
    "wild_score, wild_misses = evaluate(queries, wild_config, RAW_TO_WEB)"
   ]
  },
  {
   "cell_type": "code",
   "execution_count": 20,
   "metadata": {},
   "outputs": [
    {
     "data": {
      "text/plain": [
       "0.6231884057971014"
      ]
     },
     "execution_count": 20,
     "metadata": {},
     "output_type": "execute_result"
    }
   ],
   "source": [
    "simple_score"
   ]
  },
  {
   "cell_type": "code",
   "execution_count": 21,
   "metadata": {},
   "outputs": [
    {
     "data": {
      "text/plain": [
       "0.8405797101449275"
      ]
     },
     "execution_count": 21,
     "metadata": {},
     "output_type": "execute_result"
    }
   ],
   "source": [
    "wild_score"
   ]
  },
  {
   "cell_type": "code",
   "execution_count": 22,
   "metadata": {},
   "outputs": [
    {
     "data": {
      "text/plain": [
       "['KRO WATER',\n",
       " 'CA REDEM VAL',\n",
       " 'ARTICHOKES',\n",
       " 'BYND SSG HT ITLN',\n",
       " 'BRHD CHEESE',\n",
       " 'CUCUMBERS',\n",
       " 'FRGO STR CHS',\n",
       " 'GLBNI STR CHS',\n",
       " 'KRO SOAP',\n",
       " 'KRO CCNT MK',\n",
       " 'MSHRM BYBL WHL',\n",
       " 'LES PET CHEESE BAR',\n",
       " 'BROWN ONIONS',\n",
       " 'ASP ORG',\n",
       " 'PPRS BL GRN ORGN',\n",
       " 'RADISH ORG',\n",
       " 'SQSH YLW ORG',\n",
       " 'TOMATO ORGNC',\n",
       " 'PRSL MPL TKY GNG',\n",
       " 'PRSL MUENSTR',\n",
       " 'STO CRT BABY ORGNC',\n",
       " 'STO CCNT MILK',\n",
       " 'STO BROTH',\n",
       " 'STO CARROTS ORGNC',\n",
       " 'STN CHCK RST',\n",
       " 'SFTSOAP KTCHN FRSH']"
      ]
     },
     "execution_count": 22,
     "metadata": {},
     "output_type": "execute_result"
    }
   ],
   "source": [
    "simple_misses"
   ]
  },
  {
   "cell_type": "markdown",
   "metadata": {},
   "source": [
    "### wild_misses\n",
    "`wild_misses` is the set of queries that wasn't matched by using wild queries on terms.  \n",
    "Examples\n",
    "* `CA REDEM VAL` - difficult to match since little lexical overlap\n",
    "* `ARTICHOKES`, `CUCMBER` - plural mismatmatch\n",
    "* `BRHD *` `PRSL *`, `STO *`   - Wildcard won't match terms because BRHD, PRSL, STO spans multiple terms.  However, a wildcard match against the entire web string might work ok\n",
    "* `KRO SOAP` - Matched `Kroger® Pear & Coconut Hand Soap` which had associated raw field of `KRO PEAR COCONUT`.  The actual hit was at rank 2.  Measuring precision@2 would have caught it.\n",
    "* `LES PET CHEESE BAR` - Matched `Les Petites Havarati Cheese Wedge`.  The second hit was correct, with web value of `Les Petites Kosher Colby Jack Cheese`.  Note that neither web had disambiguating `BAR` term present.\n",
    "* `BROWN ONIONS` - Matched `Onions - Green`.  Correct hit was ranked second: `Onions - Yellow`.  Note that there was no Yellow Onions in the web texts."
   ]
  },
  {
   "cell_type": "code",
   "execution_count": 23,
   "metadata": {},
   "outputs": [
    {
     "data": {
      "text/plain": [
       "['CA REDEM VAL',\n",
       " 'ARTICHOKES',\n",
       " 'BRHD CHEESE',\n",
       " 'CUCUMBERS',\n",
       " 'KRO SOAP',\n",
       " 'LES PET CHEESE BAR',\n",
       " 'BROWN ONIONS',\n",
       " 'PRSL MUENSTR',\n",
       " 'STO CCNT MILK',\n",
       " 'STO BROTH',\n",
       " 'STO CARROTS ORGNC']"
      ]
     },
     "execution_count": 23,
     "metadata": {},
     "output_type": "execute_result"
    }
   ],
   "source": [
    "wild_misses"
   ]
  },
  {
   "cell_type": "markdown",
   "metadata": {},
   "source": [
    "### wild_eliminees\n",
    "`wild_eliminees` is the set of simple_misses that were eliminated by using wildcard queries on terms\n",
    "Example: `ASP ORG` is eliminated by wildcard queries, probably due to match of `Asparagus` and `Organic`"
   ]
  },
  {
   "cell_type": "code",
   "execution_count": 24,
   "metadata": {},
   "outputs": [
    {
     "data": {
      "text/plain": [
       "{'ASP ORG',\n",
       " 'BYND SSG HT ITLN',\n",
       " 'FRGO STR CHS',\n",
       " 'GLBNI STR CHS',\n",
       " 'KRO CCNT MK',\n",
       " 'KRO WATER',\n",
       " 'MSHRM BYBL WHL',\n",
       " 'PPRS BL GRN ORGN',\n",
       " 'PRSL MPL TKY GNG',\n",
       " 'RADISH ORG',\n",
       " 'SFTSOAP KTCHN FRSH',\n",
       " 'SQSH YLW ORG',\n",
       " 'STN CHCK RST',\n",
       " 'STO CRT BABY ORGNC',\n",
       " 'TOMATO ORGNC'}"
      ]
     },
     "execution_count": 24,
     "metadata": {},
     "output_type": "execute_result"
    }
   ],
   "source": [
    "wild_eliminees = set(simple_misses) - set(wild_misses)\n",
    "wild_eliminees"
   ]
  },
  {
   "cell_type": "code",
   "execution_count": 25,
   "metadata": {},
   "outputs": [
    {
     "data": {
      "text/plain": [
       "set()"
      ]
     },
     "execution_count": 25,
     "metadata": {},
     "output_type": "execute_result"
    }
   ],
   "source": [
    "\"\"\"\n",
    "Note that there are no `wild_misses` that were not in `simple_misses`.\n",
    "This means that using wildcards doesn't hurt performance\n",
    "\"\"\"\n",
    "set(wild_misses) - set(simple_misses)"
   ]
  },
  {
   "cell_type": "markdown",
   "metadata": {},
   "source": [
    "## TODO\n",
    "* Try not not analyzing the entire web string and doing wildcard matches against only the unanalyzed string (don't do wildcard matches against terms\n",
    "* Try wildcard matching against terms and entire unanalyzed web string"
   ]
  },
  {
   "cell_type": "markdown",
   "metadata": {},
   "source": [
    "### Fuzzy match\n",
    "Notice that wildcard can over match, resulting in false positives\n",
    "For example `m*ue*en*s*t*r` matches `MoisturePartSkimOriginalMozzarellaStringCheese`\n",
    "See the next example\n",
    "Combining the wildcard match with a fuzzy match makes Muenster surface to the top (see following examples)"
   ]
  },
  {
   "cell_type": "code",
   "execution_count": 29,
   "metadata": {},
   "outputs": [
    {
     "data": {
      "text/plain": [
       "<Document: Document<stored,indexed,tokenized,indexOptions=DOCS_AND_FREQS<raw:FRGO STR CHS> stored,indexed,tokenized<web:Frigo Cheese Heads Low Moisture Part Skim Original Mozzarella String Cheese> stored,indexed,tokenized<mashed_web:FrigoCheeseHeadsLowMoisturePartSkimOriginalMozzarellaStringCheese CheeseHeadsLowMoisturePartSkimOriginalMozzarellaStringCheese HeadsLowMoisturePartSkimOriginalMozzarellaStringCheese LowMoisturePartSkimOriginalMozzarellaStringCheese MoisturePartSkimOriginalMozzarellaStringCheese PartSkimOriginalMozzarellaStringCheese SkimOriginalMozzarellaStringCheese OriginalMozzarellaStringCheese MozzarellaStringCheese StringCheese Cheese> stored<id:4171623216>>>"
      ]
     },
     "execution_count": 29,
     "metadata": {},
     "output_type": "execute_result"
    }
   ],
   "source": [
    "ss.search('mashed_web:m*u*e*n*s*t*r*')[0]"
   ]
  },
  {
   "cell_type": "code",
   "execution_count": 30,
   "metadata": {},
   "outputs": [
    {
     "data": {
      "text/plain": [
       "<Document: Document<stored,indexed,tokenized,indexOptions=DOCS_AND_FREQS<raw:PRSL MUENSTR> stored,indexed,tokenized<web:Private Selection™ Grab & Go Muenster Cheese> stored,indexed,tokenized<mashed_web:PrivateSelection™Grab&GoMuensterCheese Selection™Grab&GoMuensterCheese Grab&GoMuensterCheese &GoMuensterCheese GoMuensterCheese MuensterCheese Cheese> stored<id:20615390000>>>"
      ]
     },
     "execution_count": 30,
     "metadata": {},
     "output_type": "execute_result"
    }
   ],
   "source": [
    "ss.search('mashed_web:m*u*e*n*s*t*r*  meunstr~')[0]"
   ]
  },
  {
   "cell_type": "code",
   "execution_count": 31,
   "metadata": {},
   "outputs": [
    {
     "data": {
      "text/plain": [
       "<Document: Document<stored,indexed,tokenized,indexOptions=DOCS_AND_FREQS<raw:PRSL MUENSTR> stored,indexed,tokenized<web:Private Selection™ Grab & Go Muenster Cheese> stored,indexed,tokenized<mashed_web:PrivateSelection™Grab&GoMuensterCheese Selection™Grab&GoMuensterCheese Grab&GoMuensterCheese &GoMuensterCheese GoMuensterCheese MuensterCheese Cheese> stored<id:20615390000>>>"
      ]
     },
     "execution_count": 31,
     "metadata": {},
     "output_type": "execute_result"
    }
   ],
   "source": [
    "ss.search('mashed_web:p*r*s*l* prsl~ mashed_web:m*u*e*n*s*t*r*  meunstr~')[0]"
   ]
  },
  {
   "cell_type": "markdown",
   "metadata": {},
   "source": [
    "## TODO\n",
    "* mashed wildcard (matching mashed_web field with wildcard query)\n",
    "* fuzzy mashed wildcard (mix in fuzzy terms to mashed wildcard)"
   ]
  },
  {
   "cell_type": "code",
   "execution_count": 34,
   "metadata": {},
   "outputs": [],
   "source": [
    "mwqm = MashedWildQueryMaker(WORDS)"
   ]
  },
  {
   "cell_type": "code",
   "execution_count": 35,
   "metadata": {},
   "outputs": [],
   "source": [
    "mashed_wild_config = Config(mwqm, ss)"
   ]
  },
  {
   "cell_type": "code",
   "execution_count": 36,
   "metadata": {},
   "outputs": [],
   "source": [
    "mashed_wild_score, mashed_wild_misses = evaluate(queries, mashed_wild_config, RAW_TO_WEB)"
   ]
  },
  {
   "cell_type": "code",
   "execution_count": 37,
   "metadata": {},
   "outputs": [
    {
     "data": {
      "text/plain": [
       "0.8695652173913043"
      ]
     },
     "execution_count": 37,
     "metadata": {},
     "output_type": "execute_result"
    }
   ],
   "source": [
    "mashed_wild_score"
   ]
  },
  {
   "cell_type": "code",
   "execution_count": 38,
   "metadata": {},
   "outputs": [
    {
     "data": {
      "text/plain": [
       "['CA REDEM VAL',\n",
       " 'ARTICHOKES',\n",
       " 'CUCUMBERS',\n",
       " 'KRO SOAP',\n",
       " 'LES PET CHEESE BAR',\n",
       " 'BROWN ONIONS',\n",
       " 'PRSL MUENSTR',\n",
       " 'STO CARROTS ORGNC',\n",
       " 'STN CHCK RST']"
      ]
     },
     "execution_count": 38,
     "metadata": {},
     "output_type": "execute_result"
    }
   ],
   "source": [
    "mashed_wild_misses"
   ]
  },
  {
   "cell_type": "markdown",
   "metadata": {},
   "source": [
    "### mashed_wild_eliminees\n",
    "`mashed_wild_eliminees` is the set of `wild_misses` that were eliminated by using mashed wildcard queries on terms\n",
    "Example: `BRHD` is eliminated by wildcard queries, probably due to match of `BRHD` and `Boar's Head`"
   ]
  },
  {
   "cell_type": "code",
   "execution_count": 40,
   "metadata": {},
   "outputs": [
    {
     "data": {
      "text/plain": [
       "{'BRHD CHEESE', 'STO BROTH', 'STO CCNT MILK'}"
      ]
     },
     "execution_count": 40,
     "metadata": {},
     "output_type": "execute_result"
    }
   ],
   "source": [
    "mashed_wild_eliminees = set(wild_misses) - set(mashed_wild_misses)\n",
    "mashed_wild_eliminees"
   ]
  },
  {
   "cell_type": "code",
   "execution_count": null,
   "metadata": {},
   "outputs": [],
   "source": []
  }
 ],
 "metadata": {
  "kernelspec": {
   "display_name": "Python 3",
   "language": "python",
   "name": "python3"
  },
  "language_info": {
   "codemirror_mode": {
    "name": "ipython",
    "version": 3
   },
   "file_extension": ".py",
   "mimetype": "text/x-python",
   "name": "python",
   "nbconvert_exporter": "python",
   "pygments_lexer": "ipython3",
   "version": "3.7.6"
  }
 },
 "nbformat": 4,
 "nbformat_minor": 4
}
