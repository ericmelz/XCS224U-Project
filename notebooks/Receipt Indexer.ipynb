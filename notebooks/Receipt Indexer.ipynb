{
 "cells": [
  {
   "cell_type": "markdown",
   "metadata": {},
   "source": [
    "# Index Receipts\n"
   ]
  },
  {
   "cell_type": "code",
   "execution_count": 1,
   "metadata": {},
   "outputs": [],
   "source": [
    "from ir import IndexDataframe, search_loop, make_dictionary, make_raw_to_web, \\\n",
    "SimpleQueryMaker, WildQueryMaker, Config, SimpleSearcher, evaluate\n",
    "import pandas as pd\n",
    "from datetime import datetime\n",
    "from org.apache.lucene.analysis.standard import StandardAnalyzer"
   ]
  },
  {
   "cell_type": "code",
   "execution_count": 2,
   "metadata": {},
   "outputs": [],
   "source": [
    "INDEX_DIR = \"indexes/receipts1\""
   ]
  },
  {
   "cell_type": "code",
   "execution_count": 3,
   "metadata": {},
   "outputs": [],
   "source": [
    "path = '../data/raw_web_joined/703_00198_2020-03-20_3_1391204_joined.json'\n",
    "df = pd.read_json(path)"
   ]
  },
  {
   "cell_type": "code",
   "execution_count": 4,
   "metadata": {},
   "outputs": [],
   "source": [
    "def index_test(quiet=False):\n",
    "    start = datetime.now()\n",
    "    try:\n",
    "        IndexDataframe(df, INDEX_DIR, StandardAnalyzer(), quiet)\n",
    "        end = datetime.now()\n",
    "        print('Elapsed: %s' % (end - start))\n",
    "    except Exception as e:\n",
    "        print(\"Failed: %s\" % e)\n",
    "        raise e    "
   ]
  },
  {
   "cell_type": "code",
   "execution_count": 5,
   "metadata": {},
   "outputs": [
    {
     "name": "stdout",
     "output_type": "stream",
     "text": [
      ".done\n",
      "Elapsed: 0:00:00.146639\n"
     ]
    }
   ],
   "source": [
    "index_test(True)"
   ]
  },
  {
   "cell_type": "code",
   "execution_count": 6,
   "metadata": {},
   "outputs": [
    {
     "name": "stdout",
     "output_type": "stream",
     "text": [
      "Hit enter with no input to quit.\n",
      "Query:\n"
     ]
    }
   ],
   "source": [
    "search_loop(INDEX_DIR, 'web')"
   ]
  },
  {
   "cell_type": "markdown",
   "metadata": {},
   "source": [
    "## Equivalency Evaluation\n",
    "```\n",
    "build a table of raw -> [web]\n",
    "where [web] is all the possible values of matches for raw\n",
    "example: 'FFST CAT FOOD' -> ['Fancy Feast Flaked Fish Cat Food', 'Purina Fancy Feast Chicken Cat Food']\n",
    "\n",
    "search on query (e.g. FFST CAT FOOD) if top result is any of the ones associated with query, it counts as a hit\n",
    "```"
   ]
  },
  {
   "cell_type": "markdown",
   "metadata": {},
   "source": [
    "## Wildcard Technique\n",
    "```\n",
    "when building a query evaluate against dictionary of seen web terms\n",
    "unseen tokens get wildcard treatment\n",
    "wildcard treatment means insert * between each letter\n",
    "e.g., FFST CAT FOOD -> F*F*S*T CAT FOOD\n",
    "since cat and food exist in dictionary\n",
    "```"
   ]
  },
  {
   "cell_type": "code",
   "execution_count": 7,
   "metadata": {},
   "outputs": [],
   "source": [
    "WORDS = make_dictionary(df)"
   ]
  },
  {
   "cell_type": "code",
   "execution_count": 8,
   "metadata": {},
   "outputs": [],
   "source": [
    "RAW_TO_WEB = make_raw_to_web(df)"
   ]
  },
  {
   "cell_type": "markdown",
   "metadata": {},
   "source": [
    "## Scoring\n",
    "### Interface\n",
    "```\n",
    "def is_hit(raw, config): -> bool\n",
    "\n",
    "config:\n",
    "  Index\n",
    "  Searcher\n",
    "  QueryMaker\n",
    "```\n",
    "\n",
    "Algorithm:\n",
    "We lookup the webs for the webs for the raw to generate the hit candidates\n",
    "we process raw into a query using QueryMaker\n",
    "We run the query using Searcher\n",
    "Index may not be necessary\n",
    "If the top result is in webs, we return true, otherwise false"
   ]
  },
  {
   "cell_type": "code",
   "execution_count": 9,
   "metadata": {},
   "outputs": [],
   "source": [
    "qm = SimpleQueryMaker()"
   ]
  },
  {
   "cell_type": "code",
   "execution_count": 10,
   "metadata": {},
   "outputs": [],
   "source": [
    "ss = SimpleSearcher(INDEX_DIR)"
   ]
  },
  {
   "cell_type": "code",
   "execution_count": 11,
   "metadata": {},
   "outputs": [],
   "source": [
    "simple_config = Config(qm, ss)"
   ]
  },
  {
   "cell_type": "code",
   "execution_count": 12,
   "metadata": {},
   "outputs": [],
   "source": [
    "queries = ['AVOCADO', 'FFST CAT FOOD']"
   ]
  },
  {
   "cell_type": "code",
   "execution_count": 13,
   "metadata": {},
   "outputs": [
    {
     "data": {
      "text/plain": [
       "(0.5, ['AVOCADO'])"
      ]
     },
     "execution_count": 13,
     "metadata": {},
     "output_type": "execute_result"
    }
   ],
   "source": [
    "evaluate(queries, simple_config, RAW_TO_WEB)"
   ]
  },
  {
   "cell_type": "code",
   "execution_count": 14,
   "metadata": {},
   "outputs": [],
   "source": [
    "queries = df.raw.unique()"
   ]
  },
  {
   "cell_type": "code",
   "execution_count": 15,
   "metadata": {},
   "outputs": [],
   "source": [
    "simple_score, simple_misses = evaluate(queries, simple_config, RAW_TO_WEB)"
   ]
  },
  {
   "cell_type": "code",
   "execution_count": 16,
   "metadata": {},
   "outputs": [
    {
     "data": {
      "text/plain": [
       "69"
      ]
     },
     "execution_count": 16,
     "metadata": {},
     "output_type": "execute_result"
    }
   ],
   "source": [
    "len(queries)"
   ]
  },
  {
   "cell_type": "code",
   "execution_count": 17,
   "metadata": {},
   "outputs": [],
   "source": [
    "wqm = WildQueryMaker(WORDS)"
   ]
  },
  {
   "cell_type": "code",
   "execution_count": 18,
   "metadata": {},
   "outputs": [],
   "source": [
    "wild_config = Config(wqm, ss)"
   ]
  },
  {
   "cell_type": "code",
   "execution_count": 19,
   "metadata": {},
   "outputs": [],
   "source": [
    "wild_score, wild_misses = evaluate(queries, wild_config, RAW_TO_WEB)"
   ]
  },
  {
   "cell_type": "code",
   "execution_count": 20,
   "metadata": {},
   "outputs": [
    {
     "data": {
      "text/plain": [
       "0.6231884057971014"
      ]
     },
     "execution_count": 20,
     "metadata": {},
     "output_type": "execute_result"
    }
   ],
   "source": [
    "simple_score"
   ]
  },
  {
   "cell_type": "code",
   "execution_count": 21,
   "metadata": {},
   "outputs": [
    {
     "data": {
      "text/plain": [
       "0.8405797101449275"
      ]
     },
     "execution_count": 21,
     "metadata": {},
     "output_type": "execute_result"
    }
   ],
   "source": [
    "wild_score"
   ]
  },
  {
   "cell_type": "code",
   "execution_count": 22,
   "metadata": {},
   "outputs": [
    {
     "data": {
      "text/plain": [
       "['KRO WATER',\n",
       " 'CA REDEM VAL',\n",
       " 'ARTICHOKES',\n",
       " 'BYND SSG HT ITLN',\n",
       " 'BRHD CHEESE',\n",
       " 'CUCUMBERS',\n",
       " 'FRGO STR CHS',\n",
       " 'GLBNI STR CHS',\n",
       " 'KRO SOAP',\n",
       " 'KRO CCNT MK',\n",
       " 'MSHRM BYBL WHL',\n",
       " 'LES PET CHEESE BAR',\n",
       " 'BROWN ONIONS',\n",
       " 'ASP ORG',\n",
       " 'PPRS BL GRN ORGN',\n",
       " 'RADISH ORG',\n",
       " 'SQSH YLW ORG',\n",
       " 'TOMATO ORGNC',\n",
       " 'PRSL MPL TKY GNG',\n",
       " 'PRSL MUENSTR',\n",
       " 'STO CRT BABY ORGNC',\n",
       " 'STO CCNT MILK',\n",
       " 'STO BROTH',\n",
       " 'STO CARROTS ORGNC',\n",
       " 'STN CHCK RST',\n",
       " 'SFTSOAP KTCHN FRSH']"
      ]
     },
     "execution_count": 22,
     "metadata": {},
     "output_type": "execute_result"
    }
   ],
   "source": [
    "simple_misses"
   ]
  },
  {
   "cell_type": "code",
   "execution_count": 23,
   "metadata": {},
   "outputs": [
    {
     "data": {
      "text/plain": [
       "['CA REDEM VAL',\n",
       " 'ARTICHOKES',\n",
       " 'BRHD CHEESE',\n",
       " 'CUCUMBERS',\n",
       " 'KRO SOAP',\n",
       " 'LES PET CHEESE BAR',\n",
       " 'BROWN ONIONS',\n",
       " 'PRSL MUENSTR',\n",
       " 'STO CCNT MILK',\n",
       " 'STO BROTH',\n",
       " 'STO CARROTS ORGNC']"
      ]
     },
     "execution_count": 23,
     "metadata": {},
     "output_type": "execute_result"
    }
   ],
   "source": [
    "wild_misses"
   ]
  },
  {
   "cell_type": "code",
   "execution_count": 24,
   "metadata": {},
   "outputs": [
    {
     "data": {
      "text/plain": [
       "{'ASP ORG',\n",
       " 'BYND SSG HT ITLN',\n",
       " 'FRGO STR CHS',\n",
       " 'GLBNI STR CHS',\n",
       " 'KRO CCNT MK',\n",
       " 'KRO WATER',\n",
       " 'MSHRM BYBL WHL',\n",
       " 'PPRS BL GRN ORGN',\n",
       " 'PRSL MPL TKY GNG',\n",
       " 'RADISH ORG',\n",
       " 'SFTSOAP KTCHN FRSH',\n",
       " 'SQSH YLW ORG',\n",
       " 'STN CHCK RST',\n",
       " 'STO CRT BABY ORGNC',\n",
       " 'TOMATO ORGNC'}"
      ]
     },
     "execution_count": 24,
     "metadata": {},
     "output_type": "execute_result"
    }
   ],
   "source": [
    "set(simple_misses) - set(wild_misses)"
   ]
  },
  {
   "cell_type": "code",
   "execution_count": 25,
   "metadata": {},
   "outputs": [
    {
     "data": {
      "text/plain": [
       "set()"
      ]
     },
     "execution_count": 25,
     "metadata": {},
     "output_type": "execute_result"
    }
   ],
   "source": [
    "set(wild_misses) - set(simple_misses)"
   ]
  },
  {
   "cell_type": "code",
   "execution_count": null,
   "metadata": {},
   "outputs": [],
   "source": []
  }
 ],
 "metadata": {
  "kernelspec": {
   "display_name": "Python 3",
   "language": "python",
   "name": "python3"
  },
  "language_info": {
   "codemirror_mode": {
    "name": "ipython",
    "version": 3
   },
   "file_extension": ".py",
   "mimetype": "text/x-python",
   "name": "python",
   "nbconvert_exporter": "python",
   "pygments_lexer": "ipython3",
   "version": "3.7.6"
  }
 },
 "nbformat": 4,
 "nbformat_minor": 4
}
