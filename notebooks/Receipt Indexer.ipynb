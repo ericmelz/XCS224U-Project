{
 "cells": [
  {
   "cell_type": "markdown",
   "metadata": {},
   "source": [
    "# Index Receipts\n"
   ]
  },
  {
   "cell_type": "code",
   "execution_count": 1,
   "metadata": {},
   "outputs": [],
   "source": [
    "from ir import IndexDataframe, search_loop, make_dictionary, make_raw_to_web, \\\n",
    "SimpleQueryMaker, WildQueryMaker, MashedWildQueryMaker, FuzzyMashedWildQueryMaker, Config, SimpleSearcher, evaluate\n",
    "import pandas as pd\n",
    "from datetime import datetime\n",
    "from org.apache.lucene.analysis.standard import StandardAnalyzer"
   ]
  },
  {
   "cell_type": "code",
   "execution_count": 2,
   "metadata": {},
   "outputs": [],
   "source": [
    "INDEX_DIR = \"indexes/receipts1\""
   ]
  },
  {
   "cell_type": "code",
   "execution_count": 3,
   "metadata": {},
   "outputs": [],
   "source": [
    "path = '../data/raw_web_joined/703_00198_2020-03-20_3_1391204_joined.json'\n",
    "df = pd.read_json(path)"
   ]
  },
  {
   "cell_type": "code",
   "execution_count": 4,
   "metadata": {},
   "outputs": [],
   "source": [
    "def index_test(quiet=False):\n",
    "    start = datetime.now()\n",
    "    try:\n",
    "        IndexDataframe(df, INDEX_DIR, StandardAnalyzer(), quiet)\n",
    "        end = datetime.now()\n",
    "        print('Elapsed: %s' % (end - start))\n",
    "    except Exception as e:\n",
    "        print(\"Failed: %s\" % e)\n",
    "        raise e    "
   ]
  },
  {
   "cell_type": "code",
   "execution_count": 5,
   "metadata": {},
   "outputs": [
    {
     "name": "stdout",
     "output_type": "stream",
     "text": [
      ".done\n",
      "Elapsed: 0:00:00.216182\n"
     ]
    }
   ],
   "source": [
    "index_test(True)"
   ]
  },
  {
   "cell_type": "code",
   "execution_count": 6,
   "metadata": {},
   "outputs": [
    {
     "name": "stdout",
     "output_type": "stream",
     "text": [
      "Hit enter with no input to quit.\n",
      "Query:water\n",
      "Searching for: water\n",
      "3 total matching documents.\n",
      "(LMTD QTY) Essentia Ionized Alkaline Water | ESNT WATER | 1.4246102571487427\n",
      "1.4246103 = weight(web:water in 0) [BM25Similarity], result of:\n",
      "  1.4246103 = score(freq=1.0), product of:\n",
      "    3.1898882 = idf, computed as log(1 + (N - n + 0.5) / (n + 0.5)) from:\n",
      "      3 = n, number of documents containing term\n",
      "      84 = N, total number of documents with field\n",
      "    0.44660193 = tf, computed as freq / (freq + k1 * (1 - b + b * dl / avgdl)) from:\n",
      "      1.0 = freq, occurrences of term within document\n",
      "      1.2 = k1, term saturation parameter\n",
      "      0.75 = b, length normalization parameter\n",
      "      6.0 = dl, length of field\n",
      "      5.75 = avgdl, average length of field\n",
      "\n",
      "------------\n",
      "(LMTD QTY) FIJI Natural Artesian Water | FIJI WATER | 1.4246102571487427\n",
      "1.4246103 = weight(web:water in 1) [BM25Similarity], result of:\n",
      "  1.4246103 = score(freq=1.0), product of:\n",
      "    3.1898882 = idf, computed as log(1 + (N - n + 0.5) / (n + 0.5)) from:\n",
      "      3 = n, number of documents containing term\n",
      "      84 = N, total number of documents with field\n",
      "    0.44660193 = tf, computed as freq / (freq + k1 * (1 - b + b * dl / avgdl)) from:\n",
      "      1.0 = freq, occurrences of term within document\n",
      "      1.2 = k1, term saturation parameter\n",
      "      0.75 = b, length normalization parameter\n",
      "      6.0 = dl, length of field\n",
      "      5.75 = avgdl, average length of field\n",
      "\n",
      "------------\n",
      "(LMTD QTY) Kroger® Spring Water | KRO WATER | 1.4246102571487427\n",
      "1.4246103 = weight(web:water in 2) [BM25Similarity], result of:\n",
      "  1.4246103 = score(freq=1.0), product of:\n",
      "    3.1898882 = idf, computed as log(1 + (N - n + 0.5) / (n + 0.5)) from:\n",
      "      3 = n, number of documents containing term\n",
      "      84 = N, total number of documents with field\n",
      "    0.44660193 = tf, computed as freq / (freq + k1 * (1 - b + b * dl / avgdl)) from:\n",
      "      1.0 = freq, occurrences of term within document\n",
      "      1.2 = k1, term saturation parameter\n",
      "      0.75 = b, length normalization parameter\n",
      "      6.0 = dl, length of field\n",
      "      5.75 = avgdl, average length of field\n",
      "\n",
      "------------\n",
      "Query:\n"
     ]
    }
   ],
   "source": [
    "search_loop(INDEX_DIR, 'web', explain=True)"
   ]
  },
  {
   "cell_type": "markdown",
   "metadata": {},
   "source": [
    "## Equivalency Evaluation\n",
    "```\n",
    "build a table of raw -> [web]\n",
    "where [web] is all the possible values of matches for raw\n",
    "example: 'FFST CAT FOOD' -> ['Fancy Feast Flaked Fish Cat Food', 'Purina Fancy Feast Chicken Cat Food']\n",
    "\n",
    "search on query (e.g. FFST CAT FOOD) if top result is any of the ones associated with query, it counts as a hit\n",
    "```"
   ]
  },
  {
   "cell_type": "markdown",
   "metadata": {},
   "source": [
    "## Wildcard Technique\n",
    "```\n",
    "when building a query evaluate against dictionary of seen web terms\n",
    "unseen tokens get wildcard treatment\n",
    "wildcard treatment means insert * between each letter\n",
    "e.g., FFST CAT FOOD -> F*F*S*T CAT FOOD\n",
    "since cat and food exist in dictionary\n",
    "```"
   ]
  },
  {
   "cell_type": "code",
   "execution_count": 7,
   "metadata": {},
   "outputs": [],
   "source": [
    "WORDS = make_dictionary(df)"
   ]
  },
  {
   "cell_type": "code",
   "execution_count": 8,
   "metadata": {},
   "outputs": [],
   "source": [
    "RAW_TO_WEB = make_raw_to_web(df)"
   ]
  },
  {
   "cell_type": "markdown",
   "metadata": {},
   "source": [
    "## Scoring\n",
    "### Interface\n",
    "```\n",
    "def is_hit(raw, config): -> bool\n",
    "\n",
    "config:\n",
    "  Index\n",
    "  Searcher\n",
    "  QueryMaker\n",
    "```\n",
    "\n",
    "Algorithm:\n",
    "We lookup the webs for the webs for the raw to generate the hit candidates\n",
    "we process raw into a query using QueryMaker\n",
    "We run the query using Searcher\n",
    "Index may not be necessary\n",
    "If the top result is in webs, we return true, otherwise false"
   ]
  },
  {
   "cell_type": "code",
   "execution_count": 9,
   "metadata": {},
   "outputs": [],
   "source": [
    "qm = SimpleQueryMaker()"
   ]
  },
  {
   "cell_type": "code",
   "execution_count": 10,
   "metadata": {},
   "outputs": [],
   "source": [
    "ss = SimpleSearcher(INDEX_DIR)"
   ]
  },
  {
   "cell_type": "code",
   "execution_count": 11,
   "metadata": {},
   "outputs": [],
   "source": [
    "simple_config = Config(qm, ss)"
   ]
  },
  {
   "cell_type": "code",
   "execution_count": 12,
   "metadata": {},
   "outputs": [],
   "source": [
    "queries = ['AVOCADO', 'FFST CAT FOOD']"
   ]
  },
  {
   "cell_type": "code",
   "execution_count": 13,
   "metadata": {},
   "outputs": [
    {
     "data": {
      "text/plain": [
       "(0.5, ['AVOCADO'])"
      ]
     },
     "execution_count": 13,
     "metadata": {},
     "output_type": "execute_result"
    }
   ],
   "source": [
    "evaluate(queries, simple_config, RAW_TO_WEB)"
   ]
  },
  {
   "cell_type": "code",
   "execution_count": 14,
   "metadata": {},
   "outputs": [],
   "source": [
    "queries = df.raw.unique()"
   ]
  },
  {
   "cell_type": "code",
   "execution_count": 15,
   "metadata": {},
   "outputs": [],
   "source": [
    "simple_score, simple_misses = evaluate(queries, simple_config, RAW_TO_WEB)"
   ]
  },
  {
   "cell_type": "code",
   "execution_count": 16,
   "metadata": {},
   "outputs": [
    {
     "data": {
      "text/plain": [
       "69"
      ]
     },
     "execution_count": 16,
     "metadata": {},
     "output_type": "execute_result"
    }
   ],
   "source": [
    "len(queries)"
   ]
  },
  {
   "cell_type": "code",
   "execution_count": 17,
   "metadata": {},
   "outputs": [],
   "source": [
    "wqm = WildQueryMaker(WORDS)"
   ]
  },
  {
   "cell_type": "code",
   "execution_count": 18,
   "metadata": {},
   "outputs": [],
   "source": [
    "wild_config = Config(wqm, ss)"
   ]
  },
  {
   "cell_type": "code",
   "execution_count": 19,
   "metadata": {},
   "outputs": [],
   "source": [
    "wild_score, wild_misses = evaluate(queries, wild_config, RAW_TO_WEB)"
   ]
  },
  {
   "cell_type": "code",
   "execution_count": 20,
   "metadata": {},
   "outputs": [
    {
     "data": {
      "text/plain": [
       "0.6231884057971014"
      ]
     },
     "execution_count": 20,
     "metadata": {},
     "output_type": "execute_result"
    }
   ],
   "source": [
    "simple_score"
   ]
  },
  {
   "cell_type": "code",
   "execution_count": 21,
   "metadata": {},
   "outputs": [
    {
     "data": {
      "text/plain": [
       "0.8405797101449275"
      ]
     },
     "execution_count": 21,
     "metadata": {},
     "output_type": "execute_result"
    }
   ],
   "source": [
    "wild_score"
   ]
  },
  {
   "cell_type": "code",
   "execution_count": 22,
   "metadata": {},
   "outputs": [
    {
     "data": {
      "text/plain": [
       "['KRO WATER',\n",
       " 'CA REDEM VAL',\n",
       " 'ARTICHOKES',\n",
       " 'BYND SSG HT ITLN',\n",
       " 'BRHD CHEESE',\n",
       " 'CUCUMBERS',\n",
       " 'FRGO STR CHS',\n",
       " 'GLBNI STR CHS',\n",
       " 'KRO SOAP',\n",
       " 'KRO CCNT MK',\n",
       " 'MSHRM BYBL WHL',\n",
       " 'LES PET CHEESE BAR',\n",
       " 'BROWN ONIONS',\n",
       " 'ASP ORG',\n",
       " 'PPRS BL GRN ORGN',\n",
       " 'RADISH ORG',\n",
       " 'SQSH YLW ORG',\n",
       " 'TOMATO ORGNC',\n",
       " 'PRSL MPL TKY GNG',\n",
       " 'PRSL MUENSTR',\n",
       " 'STO CRT BABY ORGNC',\n",
       " 'STO CCNT MILK',\n",
       " 'STO BROTH',\n",
       " 'STO CARROTS ORGNC',\n",
       " 'STN CHCK RST',\n",
       " 'SFTSOAP KTCHN FRSH']"
      ]
     },
     "execution_count": 22,
     "metadata": {},
     "output_type": "execute_result"
    }
   ],
   "source": [
    "simple_misses"
   ]
  },
  {
   "cell_type": "markdown",
   "metadata": {},
   "source": [
    "### wild_misses\n",
    "`wild_misses` is the set of queries that wasn't matched by using wild queries on terms.  \n",
    "Examples\n",
    "* `CA REDEM VAL` - difficult to match since little lexical overlap\n",
    "* `ARTICHOKES`, `CUCMBER` - plural mismatmatch\n",
    "* `BRHD *` `PRSL *`, `STO *`   - Wildcard won't match terms because BRHD, PRSL, STO spans multiple terms.  However, a wildcard match against the entire web string might work ok\n",
    "* `KRO SOAP` - Matched `Kroger® Pear & Coconut Hand Soap` which had associated raw field of `KRO PEAR COCONUT`.  The actual hit was at rank 2.  Measuring precision@2 would have caught it.\n",
    "* `LES PET CHEESE BAR` - Matched `Les Petites Havarati Cheese Wedge`.  The second hit was correct, with web value of `Les Petites Kosher Colby Jack Cheese`.  Note that neither web had disambiguating `BAR` term present.\n",
    "* `BROWN ONIONS` - Matched `Onions - Green`.  Correct hit was ranked second: `Onions - Yellow`.  Note that there was no Yellow Onions in the web texts."
   ]
  },
  {
   "cell_type": "code",
   "execution_count": 23,
   "metadata": {},
   "outputs": [
    {
     "data": {
      "text/plain": [
       "['CA REDEM VAL',\n",
       " 'ARTICHOKES',\n",
       " 'BRHD CHEESE',\n",
       " 'CUCUMBERS',\n",
       " 'KRO SOAP',\n",
       " 'LES PET CHEESE BAR',\n",
       " 'BROWN ONIONS',\n",
       " 'PRSL MUENSTR',\n",
       " 'STO CCNT MILK',\n",
       " 'STO BROTH',\n",
       " 'STO CARROTS ORGNC']"
      ]
     },
     "execution_count": 23,
     "metadata": {},
     "output_type": "execute_result"
    }
   ],
   "source": [
    "wild_misses"
   ]
  },
  {
   "cell_type": "markdown",
   "metadata": {},
   "source": [
    "### wild_eliminees\n",
    "`wild_eliminees` is the set of simple_misses that were eliminated by using wildcard queries on terms\n",
    "Example: `ASP ORG` is eliminated by wildcard queries, probably due to match of `Asparagus` and `Organic`"
   ]
  },
  {
   "cell_type": "code",
   "execution_count": 24,
   "metadata": {},
   "outputs": [
    {
     "data": {
      "text/plain": [
       "{'ASP ORG',\n",
       " 'BYND SSG HT ITLN',\n",
       " 'FRGO STR CHS',\n",
       " 'GLBNI STR CHS',\n",
       " 'KRO CCNT MK',\n",
       " 'KRO WATER',\n",
       " 'MSHRM BYBL WHL',\n",
       " 'PPRS BL GRN ORGN',\n",
       " 'PRSL MPL TKY GNG',\n",
       " 'RADISH ORG',\n",
       " 'SFTSOAP KTCHN FRSH',\n",
       " 'SQSH YLW ORG',\n",
       " 'STN CHCK RST',\n",
       " 'STO CRT BABY ORGNC',\n",
       " 'TOMATO ORGNC'}"
      ]
     },
     "execution_count": 24,
     "metadata": {},
     "output_type": "execute_result"
    }
   ],
   "source": [
    "wild_eliminees = set(simple_misses) - set(wild_misses)\n",
    "wild_eliminees"
   ]
  },
  {
   "cell_type": "code",
   "execution_count": 25,
   "metadata": {},
   "outputs": [
    {
     "data": {
      "text/plain": [
       "set()"
      ]
     },
     "execution_count": 25,
     "metadata": {},
     "output_type": "execute_result"
    }
   ],
   "source": [
    "\"\"\"\n",
    "Note that there are no `wild_misses` that were not in `simple_misses`.\n",
    "This means that using wildcards doesn't hurt performance\n",
    "\"\"\"\n",
    "set(wild_misses) - set(simple_misses)"
   ]
  },
  {
   "cell_type": "markdown",
   "metadata": {},
   "source": [
    "## TODO\n",
    "* Try not not analyzing the entire web string and doing wildcard matches against only the unanalyzed string (don't do wildcard matches against terms\n",
    "* Try wildcard matching against terms and entire unanalyzed web string"
   ]
  },
  {
   "cell_type": "markdown",
   "metadata": {},
   "source": [
    "### Fuzzy match\n",
    "Notice that wildcard can over match, resulting in false positives\n",
    "For example `m*ue*en*s*t*r` matches `MoisturePartSkimOriginalMozzarellaStringCheese`\n",
    "See the next example\n",
    "Combining the wildcard match with a fuzzy match makes Muenster surface to the top (see following examples)"
   ]
  },
  {
   "cell_type": "code",
   "execution_count": 26,
   "metadata": {},
   "outputs": [
    {
     "data": {
      "text/plain": [
       "<Document: Document<stored,indexed,tokenized,indexOptions=DOCS_AND_FREQS<raw:FRGO STR CHS> stored,indexed,tokenized<web:Frigo Cheese Heads Low Moisture Part Skim Original Mozzarella String Cheese> stored,indexed,tokenized<mashed_web:frigocheeseheadslowmoisturepartskimoriginalmozzarellastringcheese cheeseheadslowmoisturepartskimoriginalmozzarellastringcheese headslowmoisturepartskimoriginalmozzarellastringcheese lowmoisturepartskimoriginalmozzarellastringcheese moisturepartskimoriginalmozzarellastringcheese partskimoriginalmozzarellastringcheese skimoriginalmozzarellastringcheese originalmozzarellastringcheese mozzarellastringcheese stringcheese cheese> stored,indexed,tokenized<bigrams:mozzarella_string string_cheese> stored,indexed,tokenized<trigrams:mozzarella_string_cheese> stored<id:4171623216>>>"
      ]
     },
     "execution_count": 26,
     "metadata": {},
     "output_type": "execute_result"
    }
   ],
   "source": [
    "ss.search('mashed_web:m*u*e*n*s*t*r*')[0]"
   ]
  },
  {
   "cell_type": "code",
   "execution_count": 27,
   "metadata": {},
   "outputs": [
    {
     "name": "stdout",
     "output_type": "stream",
     "text": [
      "mashed_web:m*u*e*n*s*t*r*\n",
      "Frigo Cheese Heads Low Moisture Part Skim Original Mozzarella String Cheese | FRGO STR CHS | 1.0\n",
      "1.0 = mashed_web:m*u*e*n*s*t*r*\n",
      "\n",
      "------------\n",
      "Private Selection™ Grab & Go Muenster Cheese | PRSL MUENSTR | 1.0\n",
      "1.0 = mashed_web:m*u*e*n*s*t*r*\n",
      "\n",
      "------------\n"
     ]
    }
   ],
   "source": [
    "ss.explain('mashed_web:m*u*e*n*s*t*r*')"
   ]
  },
  {
   "cell_type": "code",
   "execution_count": 28,
   "metadata": {},
   "outputs": [
    {
     "data": {
      "text/plain": [
       "<Document: Document<stored,indexed,tokenized,indexOptions=DOCS_AND_FREQS<raw:PRSL MUENSTR> stored,indexed,tokenized<web:Private Selection™ Grab & Go Muenster Cheese> stored,indexed,tokenized<mashed_web:privateselectiongrabgomuenstercheese selectiongrabgomuenstercheese grabgomuenstercheese gomuenstercheese gomuenstercheese muenstercheese cheese> stored<id:20615390000>>>"
      ]
     },
     "execution_count": 28,
     "metadata": {},
     "output_type": "execute_result"
    }
   ],
   "source": [
    "ss.search('mashed_web:m*u*e*n*s*t*r*  meunstr~')[0]"
   ]
  },
  {
   "cell_type": "code",
   "execution_count": 29,
   "metadata": {},
   "outputs": [
    {
     "name": "stdout",
     "output_type": "stream",
     "text": [
      "mashed_web:m*u*e*n*s*t*r*  meunstr~\n",
      "Private Selection™ Grab & Go Muenster Cheese | PRSL MUENSTR | 2.2037241458892822\n",
      "2.2037241 = sum of:\n",
      "  1.0 = mashed_web:m*u*e*n*s*t*r*\n",
      "  1.2037241 = weight(web:muenster in 59) [BM25Similarity], result of:\n",
      "    1.2037241 = score(freq=1.0), product of:\n",
      "      0.71428573 = boost\n",
      "      4.037186 = idf, computed as log(1 + (N - n + 0.5) / (n + 0.5)) from:\n",
      "        1 = n, number of documents containing term\n",
      "        84 = N, total number of documents with field\n",
      "      0.41742286 = tf, computed as freq / (freq + k1 * (1 - b + b * dl / avgdl)) from:\n",
      "        1.0 = freq, occurrences of term within document\n",
      "        1.2 = k1, term saturation parameter\n",
      "        0.75 = b, length normalization parameter\n",
      "        7.0 = dl, length of field\n",
      "        5.75 = avgdl, average length of field\n",
      "\n",
      "------------\n",
      "Frigo Cheese Heads Low Moisture Part Skim Original Mozzarella String Cheese | FRGO STR CHS | 1.0\n",
      "1.0 = sum of:\n",
      "  1.0 = mashed_web:m*u*e*n*s*t*r*\n",
      "\n",
      "------------\n"
     ]
    }
   ],
   "source": [
    "ss.explain('mashed_web:m*u*e*n*s*t*r*  meunstr~')"
   ]
  },
  {
   "cell_type": "code",
   "execution_count": 30,
   "metadata": {},
   "outputs": [
    {
     "data": {
      "text/plain": [
       "<Document: Document<stored,indexed,tokenized,indexOptions=DOCS_AND_FREQS<raw:PRSL MUENSTR> stored,indexed,tokenized<web:Private Selection™ Grab & Go Muenster Cheese> stored,indexed,tokenized<mashed_web:privateselectiongrabgomuenstercheese selectiongrabgomuenstercheese grabgomuenstercheese gomuenstercheese gomuenstercheese muenstercheese cheese> stored<id:20615390000>>>"
      ]
     },
     "execution_count": 30,
     "metadata": {},
     "output_type": "execute_result"
    }
   ],
   "source": [
    "ss.search('mashed_web:p*r*s*l* prsl~ mashed_web:m*u*e*n*s*t*r*  meunstr~')[0]"
   ]
  },
  {
   "cell_type": "code",
   "execution_count": 31,
   "metadata": {},
   "outputs": [
    {
     "name": "stdout",
     "output_type": "stream",
     "text": [
      "mashed_web:p*r*s*l* prsl~ mashed_web:m*u*e*n*s*t*r*  meunstr~\n",
      "Private Selection™ Grab & Go Muenster Cheese | PRSL MUENSTR | 3.2037241458892822\n",
      "3.2037241 = sum of:\n",
      "  1.0 = mashed_web:p*r*s*l*\n",
      "  1.0 = mashed_web:m*u*e*n*s*t*r*\n",
      "  1.2037241 = weight(web:muenster in 59) [BM25Similarity], result of:\n",
      "    1.2037241 = score(freq=1.0), product of:\n",
      "      0.71428573 = boost\n",
      "      4.037186 = idf, computed as log(1 + (N - n + 0.5) / (n + 0.5)) from:\n",
      "        1 = n, number of documents containing term\n",
      "        84 = N, total number of documents with field\n",
      "      0.41742286 = tf, computed as freq / (freq + k1 * (1 - b + b * dl / avgdl)) from:\n",
      "        1.0 = freq, occurrences of term within document\n",
      "        1.2 = k1, term saturation parameter\n",
      "        0.75 = b, length normalization parameter\n",
      "        7.0 = dl, length of field\n",
      "        5.75 = avgdl, average length of field\n",
      "\n",
      "------------\n",
      "Frigo Cheese Heads Low Moisture Part Skim Original Mozzarella String Cheese | FRGO STR CHS | 2.0\n",
      "2.0 = sum of:\n",
      "  1.0 = mashed_web:p*r*s*l*\n",
      "  1.0 = mashed_web:m*u*e*n*s*t*r*\n",
      "\n",
      "------------\n",
      "Earthwise Palm Trees Reusable Shopping Bag | PALM SHOPPING BAGS | 1.0\n",
      "1.0 = sum of:\n",
      "  1.0 = mashed_web:p*r*s*l*\n",
      "\n",
      "------------\n",
      "Organic - Parsley - Curly | PARSLEY ORG | 1.0\n",
      "1.0 = sum of:\n",
      "  1.0 = mashed_web:p*r*s*l*\n",
      "\n",
      "------------\n",
      "Organic Italian Parsley | PARSLEY ORG | 1.0\n",
      "1.0 = sum of:\n",
      "  1.0 = mashed_web:p*r*s*l*\n",
      "\n",
      "------------\n",
      "Private Selection™ Campari Tomatoes | TOMATOES CAMPARI | 1.0\n",
      "1.0 = sum of:\n",
      "  1.0 = mashed_web:p*r*s*l*\n",
      "\n",
      "------------\n",
      "Private Selection™ Grab & Go Maple Turkey Breast | PRSL MPL TKY GNG | 1.0\n",
      "1.0 = sum of:\n",
      "  1.0 = mashed_web:p*r*s*l*\n",
      "\n",
      "------------\n",
      "Purina Fancy Feast Classic Pate Chicken Feast Wet Cat Food Can | FFST CAT FOOD | 1.0\n",
      "1.0 = sum of:\n",
      "  1.0 = mashed_web:p*r*s*l*\n",
      "\n",
      "------------\n",
      "Purina Fancy Feast Classic Pate Savory Salmon Feast Wet Cat Food Can | FFST CAT FOOD | 1.0\n",
      "1.0 = sum of:\n",
      "  1.0 = mashed_web:p*r*s*l*\n",
      "\n",
      "------------\n",
      "Purina Fancy Feast Classic Pate Tender Beef Feast Wet Cat Food Can | FFST CAT FOOD | 1.0\n",
      "1.0 = sum of:\n",
      "  1.0 = mashed_web:p*r*s*l*\n",
      "\n",
      "------------\n",
      "Purina Fancy Feast Sliced Chicken Hearts & Liver Feast in Gravy Wet Cat Food Can | FFST CAT FOOD | 1.0\n",
      "1.0 = sum of:\n",
      "  1.0 = mashed_web:p*r*s*l*\n",
      "\n",
      "------------\n",
      "Boar's Head Monterey Jack with Jalapeno Pre-Sliced Cheese | BRHD CHEESE | 0.4968179762363434\n",
      "0.49681798 = sum of:\n",
      "  0.49681798 = weight(web:pre in 13) [BM25Similarity], result of:\n",
      "    0.49681798 = score(freq=1.0), product of:\n",
      "      0.3333333 = boost\n",
      "      4.037186 = idf, computed as log(1 + (N - n + 0.5) / (n + 0.5)) from:\n",
      "        1 = n, number of documents containing term\n",
      "        84 = N, total number of documents with field\n",
      "      0.3691814 = tf, computed as freq / (freq + k1 * (1 - b + b * dl / avgdl)) from:\n",
      "        1.0 = freq, occurrences of term within document\n",
      "        1.2 = k1, term saturation parameter\n",
      "        0.75 = b, length normalization parameter\n",
      "        9.0 = dl, length of field\n",
      "        5.75 = avgdl, average length of field\n",
      "\n",
      "------------\n"
     ]
    }
   ],
   "source": [
    "ss.explain('mashed_web:p*r*s*l* prsl~ mashed_web:m*u*e*n*s*t*r*  meunstr~')"
   ]
  },
  {
   "cell_type": "markdown",
   "metadata": {},
   "source": [
    "## Mashed and Fuzzy\n",
    "* mashed wildcard (matching mashed_web field with wildcard query)\n",
    "* fuzzy mashed wildcard (mix in fuzzy terms to mashed wildcard)"
   ]
  },
  {
   "cell_type": "code",
   "execution_count": 32,
   "metadata": {},
   "outputs": [],
   "source": [
    "mwqm = MashedWildQueryMaker(WORDS)"
   ]
  },
  {
   "cell_type": "code",
   "execution_count": 33,
   "metadata": {},
   "outputs": [],
   "source": [
    "mashed_wild_config = Config(mwqm, ss)"
   ]
  },
  {
   "cell_type": "code",
   "execution_count": 34,
   "metadata": {},
   "outputs": [],
   "source": [
    "mashed_wild_score, mashed_wild_misses = evaluate(queries, mashed_wild_config, RAW_TO_WEB)"
   ]
  },
  {
   "cell_type": "code",
   "execution_count": 35,
   "metadata": {},
   "outputs": [
    {
     "data": {
      "text/plain": [
       "0.8840579710144928"
      ]
     },
     "execution_count": 35,
     "metadata": {},
     "output_type": "execute_result"
    }
   ],
   "source": [
    "mashed_wild_score"
   ]
  },
  {
   "cell_type": "code",
   "execution_count": 36,
   "metadata": {},
   "outputs": [
    {
     "data": {
      "text/plain": [
       "['CA REDEM VAL',\n",
       " 'ARTICHOKES',\n",
       " 'CUCUMBERS',\n",
       " 'KRO SOAP',\n",
       " 'LES PET CHEESE BAR',\n",
       " 'BROWN ONIONS',\n",
       " 'PRSL MUENSTR',\n",
       " 'STO CARROTS ORGNC']"
      ]
     },
     "execution_count": 36,
     "metadata": {},
     "output_type": "execute_result"
    }
   ],
   "source": [
    "mashed_wild_misses"
   ]
  },
  {
   "cell_type": "markdown",
   "metadata": {},
   "source": [
    "### mashed_wild_eliminees\n",
    "`mashed_wild_eliminees` is the set of `wild_misses` that were eliminated by using mashed wildcard queries on terms\n",
    "Example: `BRHD` is eliminated by wildcard queries, probably due to match of `BRHD` and `Boar's Head`"
   ]
  },
  {
   "cell_type": "code",
   "execution_count": 37,
   "metadata": {},
   "outputs": [
    {
     "data": {
      "text/plain": [
       "{'BRHD CHEESE', 'STO BROTH', 'STO CCNT MILK'}"
      ]
     },
     "execution_count": 37,
     "metadata": {},
     "output_type": "execute_result"
    }
   ],
   "source": [
    "mashed_wild_eliminees = set(wild_misses) - set(mashed_wild_misses)\n",
    "mashed_wild_eliminees"
   ]
  },
  {
   "cell_type": "code",
   "execution_count": 40,
   "metadata": {},
   "outputs": [
    {
     "data": {
      "text/plain": [
       "set()"
      ]
     },
     "execution_count": 40,
     "metadata": {},
     "output_type": "execute_result"
    }
   ],
   "source": [
    "regressions = set(mashed_wild_misses) - set(wild_misses)\n",
    "regressions"
   ]
  },
  {
   "cell_type": "code",
   "execution_count": 41,
   "metadata": {},
   "outputs": [],
   "source": [
    "fmwqm = FuzzyMashedWildQueryMaker(WORDS)"
   ]
  },
  {
   "cell_type": "code",
   "execution_count": 42,
   "metadata": {},
   "outputs": [],
   "source": [
    "fuzzy_mashed_wild_config = Config(fmwqm, ss)"
   ]
  },
  {
   "cell_type": "code",
   "execution_count": 43,
   "metadata": {},
   "outputs": [],
   "source": [
    "fuzzy_mashed_wild_score, fuzzy_mashed_wild_misses = evaluate(queries, fuzzy_mashed_wild_config, RAW_TO_WEB)"
   ]
  },
  {
   "cell_type": "code",
   "execution_count": 44,
   "metadata": {},
   "outputs": [
    {
     "data": {
      "text/plain": [
       "0.8985507246376812"
      ]
     },
     "execution_count": 44,
     "metadata": {},
     "output_type": "execute_result"
    }
   ],
   "source": [
    "fuzzy_mashed_wild_score"
   ]
  },
  {
   "cell_type": "code",
   "execution_count": 45,
   "metadata": {},
   "outputs": [
    {
     "data": {
      "text/plain": [
       "['CA REDEM VAL',\n",
       " 'FRGO STR CHS',\n",
       " 'KRO SOAP',\n",
       " 'LES PET CHEESE BAR',\n",
       " 'OCEANS HALO BROTH',\n",
       " 'BROWN ONIONS',\n",
       " 'STO CARROTS ORGNC']"
      ]
     },
     "execution_count": 45,
     "metadata": {},
     "output_type": "execute_result"
    }
   ],
   "source": [
    "fuzzy_mashed_wild_misses"
   ]
  },
  {
   "cell_type": "markdown",
   "metadata": {},
   "source": [
    "### fuzzy_mashed_wild_eliminees\n",
    "By introducing fuzzy matching, we get plurals (`ARTICHOKES`, `CUCUMBERS`) in addition to Mild misspellings (`MUENSTR`)."
   ]
  },
  {
   "cell_type": "code",
   "execution_count": 48,
   "metadata": {},
   "outputs": [
    {
     "data": {
      "text/plain": [
       "{'ARTICHOKES', 'CUCUMBERS', 'PRSL MUENSTR'}"
      ]
     },
     "execution_count": 48,
     "metadata": {},
     "output_type": "execute_result"
    }
   ],
   "source": [
    "fuzzy_mashed_wild_eliminees = set(mashed_wild_misses) - set(fuzzy_mashed_wild_misses)\n",
    "fuzzy_mashed_wild_eliminees"
   ]
  },
  {
   "cell_type": "code",
   "execution_count": 51,
   "metadata": {},
   "outputs": [
    {
     "data": {
      "text/plain": [
       "{'FRGO STR CHS', 'OCEANS HALO BROTH'}"
      ]
     },
     "execution_count": 51,
     "metadata": {},
     "output_type": "execute_result"
    }
   ],
   "source": [
    "fuzzy_mashed_regressions = set(fuzzy_mashed_wild_misses) - set(mashed_wild_misses)\n",
    "fuzzy_mashed_regressions"
   ]
  },
  {
   "cell_type": "code",
   "execution_count": 50,
   "metadata": {},
   "outputs": [
    {
     "data": {
      "text/plain": [
       "<Document: Document<stored,indexed,tokenized,indexOptions=DOCS_AND_FREQS<raw:BEEF STR FRY> stored,indexed,tokenized<web:Beef Choice For Stir Fry> stored,indexed,tokenized<mashed_web:beefchoiceforstirfry choiceforstirfry forstirfry stirfry fry> stored<id:20254600000>>>"
      ]
     },
     "execution_count": 50,
     "metadata": {},
     "output_type": "execute_result"
    }
   ],
   "source": [
    "ss.search(fmwqm.make_query('FRGO STR CHS'))[0]"
   ]
  },
  {
   "cell_type": "markdown",
   "metadata": {},
   "source": [
    "FRGO STR CHS matches Beef Choice For Stir Fry\n",
    "* frgo~ matches fry  i think???\n",
    "* frgo~ matches for i think???\n",
    "* str~ matches stir\n",
    "* c*h*s* matches choice for stir.  This would be eliminated if we only consider using bigram/trigram terms (choice for stir hopefully isn't a trigram)\n",
    "\n",
    "This indicates that we should eliminate web words that are shorter than raw words- both for and fry are shorter than frgo~\n",
    "\n",
    "The False Negative is the second hit\n",
    "* Frigo Cheese Heads Low Moisture Part Skim Original Mozzarella String Cheese\n",
    "* frgo~ matches Frigo\n",
    "* chs~ does not match Cheese... why?\n",
    "* str~ does not match String... why?\n",
    "\n",
    "I think maybe bonus points should be awarded for prefix matches\n",
    "Examples:\n",
    "KRO => Kroger\n",
    "STR => String\n",
    "\n",
    "This could be accomplished by adding prefix queries \n",
    "e.g., in addition to S*T*R*, have STR*\n"
   ]
  },
  {
   "cell_type": "code",
   "execution_count": 49,
   "metadata": {},
   "outputs": [
    {
     "name": "stdout",
     "output_type": "stream",
     "text": [
      "mashed_web:f*r*g*o* frgo~ mashed_web:s*t*r* str~ mashed_web:c*h*s* chs~\n",
      "Beef Choice For Stir Fry | BEEF STR FRY | 3.921565532684326\n",
      "3.9215655 = sum of:\n",
      "  0.5105596 = weight(web:fry in 10) [BM25Similarity], result of:\n",
      "    0.5105596 = score(freq=1.0), product of:\n",
      "      0.3333333 = boost\n",
      "      3.1898882 = idf, computed as log(1 + (N - n + 0.5) / (n + 0.5)) from:\n",
      "        3 = n, number of documents containing term\n",
      "        84 = N, total number of documents with field\n",
      "      0.48016697 = tf, computed as freq / (freq + k1 * (1 - b + b * dl / avgdl)) from:\n",
      "        1.0 = freq, occurrences of term within document\n",
      "        1.2 = k1, term saturation parameter\n",
      "        0.75 = b, length normalization parameter\n",
      "        5.0 = dl, length of field\n",
      "        5.75 = avgdl, average length of field\n",
      "  1.0 = mashed_web:s*t*r*\n",
      "  0.47033533 = weight(web:for in 10) [BM25Similarity], result of:\n",
      "    0.47033533 = score(freq=1.0), product of:\n",
      "      0.3333333 = boost\n",
      "      2.9385738 = idf, computed as log(1 + (N - n + 0.5) / (n + 0.5)) from:\n",
      "        4 = n, number of documents containing term\n",
      "        84 = N, total number of documents with field\n",
      "      0.48016697 = tf, computed as freq / (freq + k1 * (1 - b + b * dl / avgdl)) from:\n",
      "        1.0 = freq, occurrences of term within document\n",
      "        1.2 = k1, term saturation parameter\n",
      "        0.75 = b, length normalization parameter\n",
      "        5.0 = dl, length of field\n",
      "        5.75 = avgdl, average length of field\n",
      "  0.94067067 = weight(web:stir in 10) [BM25Similarity], result of:\n",
      "    0.94067067 = score(freq=1.0), product of:\n",
      "      0.6666666 = boost\n",
      "      2.9385738 = idf, computed as log(1 + (N - n + 0.5) / (n + 0.5)) from:\n",
      "        4 = n, number of documents containing term\n",
      "        84 = N, total number of documents with field\n",
      "      0.48016697 = tf, computed as freq / (freq + k1 * (1 - b + b * dl / avgdl)) from:\n",
      "        1.0 = freq, occurrences of term within document\n",
      "        1.2 = k1, term saturation parameter\n",
      "        0.75 = b, length normalization parameter\n",
      "        5.0 = dl, length of field\n",
      "        5.75 = avgdl, average length of field\n",
      "  1.0 = mashed_web:c*h*s*\n",
      "\n",
      "------------\n",
      "Frigo Cheese Heads Low Moisture Part Skim Original Mozzarella String Cheese | FRGO STR CHS | 3.7917346954345703\n",
      "3.7917347 = sum of:\n",
      "  1.0 = mashed_web:f*r*g*o*\n",
      "  0.7917348 = weight(web:frigo in 24) [BM25Similarity], result of:\n",
      "    0.7917348 = score(freq=1.0), product of:\n",
      "      0.75 = boost\n",
      "      3.1898882 = idf, computed as log(1 + (N - n + 0.5) / (n + 0.5)) from:\n",
      "        3 = n, number of documents containing term\n",
      "        84 = N, total number of documents with field\n",
      "      0.33093524 = tf, computed as freq / (freq + k1 * (1 - b + b * dl / avgdl)) from:\n",
      "        1.0 = freq, occurrences of term within document\n",
      "        1.2 = k1, term saturation parameter\n",
      "        0.75 = b, length normalization parameter\n",
      "        11.0 = dl, length of field\n",
      "        5.75 = avgdl, average length of field\n",
      "  1.0 = mashed_web:s*t*r*\n",
      "  1.0 = mashed_web:c*h*s*\n",
      "\n",
      "------------\n",
      "Simple Truth Organic™ Fat Free Free Range Chicken Broth | STO BROTH | 2.8252804279327393\n",
      "2.8252804 = sum of:\n",
      "  1.0 = mashed_web:f*r*g*o*\n",
      "  0.8252804 = weight(web:free in 70) [BM25Similarity], result of:\n",
      "    0.8252804 = score(freq=2.0), product of:\n",
      "      0.5 = boost\n",
      "      3.1898882 = idf, computed as log(1 + (N - n + 0.5) / (n + 0.5)) from:\n",
      "        3 = n, number of documents containing term\n",
      "        84 = N, total number of documents with field\n",
      "      0.5174353 = tf, computed as freq / (freq + k1 * (1 - b + b * dl / avgdl)) from:\n",
      "        2.0 = freq, occurrences of term within document\n",
      "        1.2 = k1, term saturation parameter\n",
      "        0.75 = b, length normalization parameter\n",
      "        10.0 = dl, length of field\n",
      "        5.75 = avgdl, average length of field\n",
      "  1.0 = mashed_web:s*t*r*\n",
      "\n",
      "------------\n",
      "Simple Truth™ Sea Salt Roasted Cashews | ST CASHEWS RS | 2.4088759422302246\n",
      "2.408876 = sum of:\n",
      "  1.0 = mashed_web:s*t*r*\n",
      "  0.40887594 = weight(web:sea in 74) [BM25Similarity], result of:\n",
      "    0.40887594 = score(freq=1.0), product of:\n",
      "      0.3333333 = boost\n",
      "      2.9385738 = idf, computed as log(1 + (N - n + 0.5) / (n + 0.5)) from:\n",
      "        4 = n, number of documents containing term\n",
      "        84 = N, total number of documents with field\n",
      "      0.41742286 = tf, computed as freq / (freq + k1 * (1 - b + b * dl / avgdl)) from:\n",
      "        1.0 = freq, occurrences of term within document\n",
      "        1.2 = k1, term saturation parameter\n",
      "        0.75 = b, length normalization parameter\n",
      "        7.0 = dl, length of field\n",
      "        5.75 = avgdl, average length of field\n",
      "  1.0 = mashed_web:c*h*s*\n",
      "\n",
      "------------\n",
      "Galbani String Cheese | GLBNI STR CHS | 2.0\n",
      "2.0 = sum of:\n",
      "  1.0 = mashed_web:s*t*r*\n",
      "  1.0 = mashed_web:c*h*s*\n",
      "\n",
      "------------\n",
      "Simple Truth™ Natural Angus Beef Chuck Roast | STN CHCK RST | 2.0\n",
      "2.0 = sum of:\n",
      "  1.0 = mashed_web:s*t*r*\n",
      "  1.0 = mashed_web:c*h*s*\n",
      "\n",
      "------------\n",
      "Softsoap Kitchen Fresh Hands Citrus Extracts Antibacterial Hand Soap | SFTSOAP KTCHN FRSH | 2.0\n",
      "2.0 = sum of:\n",
      "  1.0 = mashed_web:s*t*r*\n",
      "  1.0 = mashed_web:c*h*s*\n",
      "\n",
      "------------\n",
      "Taylor Farms Roasted Garlic Chopped Salad Kit | TYFR SALAD KIT | 2.0\n",
      "2.0 = sum of:\n",
      "  1.0 = mashed_web:f*r*g*o*\n",
      "  1.0 = mashed_web:c*h*s*\n",
      "\n",
      "------------\n",
      "Simple Truth Organic™ Fat Free Beef Stock | STO STOCK | 1.624935507774353\n",
      "1.6249355 = sum of:\n",
      "  0.6249355 = weight(web:free in 69) [BM25Similarity], result of:\n",
      "    0.6249355 = score(freq=1.0), product of:\n",
      "      0.5 = boost\n",
      "      3.1898882 = idf, computed as log(1 + (N - n + 0.5) / (n + 0.5)) from:\n",
      "        3 = n, number of documents containing term\n",
      "        84 = N, total number of documents with field\n",
      "      0.39182281 = tf, computed as freq / (freq + k1 * (1 - b + b * dl / avgdl)) from:\n",
      "        1.0 = freq, occurrences of term within document\n",
      "        1.2 = k1, term saturation parameter\n",
      "        0.75 = b, length normalization parameter\n",
      "        8.0 = dl, length of field\n",
      "        5.75 = avgdl, average length of field\n",
      "  1.0 = mashed_web:s*t*r*\n",
      "\n",
      "------------\n",
      "Purina Fancy Feast Classic Pate Chicken Feast Wet Cat Food Can | FFST CAT FOOD | 1.4834654331207275\n",
      "1.4834654 = sum of:\n",
      "  1.0 = mashed_web:c*h*s*\n",
      "  0.24173269 = weight(web:can in 60) [BM25Similarity], result of:\n",
      "    0.24173269 = score(freq=1.0), product of:\n",
      "      0.3333333 = boost\n",
      "      2.1913595 = idf, computed as log(1 + (N - n + 0.5) / (n + 0.5)) from:\n",
      "        9 = n, number of documents containing term\n",
      "        84 = N, total number of documents with field\n",
      "      0.33093524 = tf, computed as freq / (freq + k1 * (1 - b + b * dl / avgdl)) from:\n",
      "        1.0 = freq, occurrences of term within document\n",
      "        1.2 = k1, term saturation parameter\n",
      "        0.75 = b, length normalization parameter\n",
      "        11.0 = dl, length of field\n",
      "        5.75 = avgdl, average length of field\n",
      "  0.24173269 = weight(web:cat in 60) [BM25Similarity], result of:\n",
      "    0.24173269 = score(freq=1.0), product of:\n",
      "      0.3333333 = boost\n",
      "      2.1913595 = idf, computed as log(1 + (N - n + 0.5) / (n + 0.5)) from:\n",
      "        9 = n, number of documents containing term\n",
      "        84 = N, total number of documents with field\n",
      "      0.33093524 = tf, computed as freq / (freq + k1 * (1 - b + b * dl / avgdl)) from:\n",
      "        1.0 = freq, occurrences of term within document\n",
      "        1.2 = k1, term saturation parameter\n",
      "        0.75 = b, length normalization parameter\n",
      "        11.0 = dl, length of field\n",
      "        5.75 = avgdl, average length of field\n",
      "\n",
      "------------\n",
      "(LMTD QTY) Kroger® Spring Water | KRO WATER | 1.43745756149292\n",
      "1.4374576 = sum of:\n",
      "  1.0 = mashed_web:s*t*r*\n",
      "  0.43745756 = weight(web:qty in 2) [BM25Similarity], result of:\n",
      "    0.43745756 = score(freq=1.0), product of:\n",
      "      0.3333333 = boost\n",
      "      2.9385738 = idf, computed as log(1 + (N - n + 0.5) / (n + 0.5)) from:\n",
      "        4 = n, number of documents containing term\n",
      "        84 = N, total number of documents with field\n",
      "      0.44660193 = tf, computed as freq / (freq + k1 * (1 - b + b * dl / avgdl)) from:\n",
      "        1.0 = freq, occurrences of term within document\n",
      "        1.2 = k1, term saturation parameter\n",
      "        0.75 = b, length normalization parameter\n",
      "        6.0 = dl, length of field\n",
      "        5.75 = avgdl, average length of field\n",
      "\n",
      "------------\n",
      "Purina Fancy Feast Sliced Chicken Hearts & Liver Feast in Gravy Wet Cat Food Can | FFST CAT FOOD | 1.4184414148330688\n",
      "1.4184414 = sum of:\n",
      "  1.0 = mashed_web:c*h*s*\n",
      "  0.20922069 = weight(web:can in 64) [BM25Similarity], result of:\n",
      "    0.20922069 = score(freq=1.0), product of:\n",
      "      0.3333333 = boost\n",
      "      2.1913595 = idf, computed as log(1 + (N - n + 0.5) / (n + 0.5)) from:\n",
      "        9 = n, number of documents containing term\n",
      "        84 = N, total number of documents with field\n",
      "      0.2864259 = tf, computed as freq / (freq + k1 * (1 - b + b * dl / avgdl)) from:\n",
      "        1.0 = freq, occurrences of term within document\n",
      "        1.2 = k1, term saturation parameter\n",
      "        0.75 = b, length normalization parameter\n",
      "        14.0 = dl, length of field\n",
      "        5.75 = avgdl, average length of field\n",
      "  0.20922069 = weight(web:cat in 64) [BM25Similarity], result of:\n",
      "    0.20922069 = score(freq=1.0), product of:\n",
      "      0.3333333 = boost\n",
      "      2.1913595 = idf, computed as log(1 + (N - n + 0.5) / (n + 0.5)) from:\n",
      "        9 = n, number of documents containing term\n",
      "        84 = N, total number of documents with field\n",
      "      0.2864259 = tf, computed as freq / (freq + k1 * (1 - b + b * dl / avgdl)) from:\n",
      "        1.0 = freq, occurrences of term within document\n",
      "        1.2 = k1, term saturation parameter\n",
      "        0.75 = b, length normalization parameter\n",
      "        14.0 = dl, length of field\n",
      "        5.75 = avgdl, average length of field\n",
      "\n",
      "------------\n",
      "Les Petites Havarati Cheese Wedge | LES PET CHEESE | 1.3507394790649414\n",
      "1.3507395 = sum of:\n",
      "  1.0 = mashed_web:c*h*s*\n",
      "  0.35073948 = weight(web:les in 34) [BM25Similarity], result of:\n",
      "    0.35073948 = score(freq=1.0), product of:\n",
      "      0.3333333 = boost\n",
      "      2.1913595 = idf, computed as log(1 + (N - n + 0.5) / (n + 0.5)) from:\n",
      "        9 = n, number of documents containing term\n",
      "        84 = N, total number of documents with field\n",
      "      0.48016697 = tf, computed as freq / (freq + k1 * (1 - b + b * dl / avgdl)) from:\n",
      "        1.0 = freq, occurrences of term within document\n",
      "        1.2 = k1, term saturation parameter\n",
      "        0.75 = b, length normalization parameter\n",
      "        5.0 = dl, length of field\n",
      "        5.75 = avgdl, average length of field\n",
      "\n",
      "------------\n",
      "Les Petites Kosher Colby Jack Cheese | LES PET CHEESE BAR | 1.3262217044830322\n",
      "1.3262217 = sum of:\n",
      "  1.0 = mashed_web:c*h*s*\n",
      "  0.32622176 = weight(web:les in 35) [BM25Similarity], result of:\n",
      "    0.32622176 = score(freq=1.0), product of:\n",
      "      0.3333333 = boost\n",
      "      2.1913595 = idf, computed as log(1 + (N - n + 0.5) / (n + 0.5)) from:\n",
      "        9 = n, number of documents containing term\n",
      "        84 = N, total number of documents with field\n",
      "      0.44660193 = tf, computed as freq / (freq + k1 * (1 - b + b * dl / avgdl)) from:\n",
      "        1.0 = freq, occurrences of term within document\n",
      "        1.2 = k1, term saturation parameter\n",
      "        0.75 = b, length normalization parameter\n",
      "        6.0 = dl, length of field\n",
      "        5.75 = avgdl, average length of field\n",
      "\n",
      "------------\n",
      "(LMTD QTY) Robitussin Max Strength Blue Raspberry Nighttime Cough DM Liquid | ROBITUSSIN COUGH | 1.3241591453552246\n",
      "1.3241591 = sum of:\n",
      "  1.0 = mashed_web:s*t*r*\n",
      "  0.3241592 = weight(web:qty in 3) [BM25Similarity], result of:\n",
      "    0.3241592 = score(freq=1.0), product of:\n",
      "      0.3333333 = boost\n",
      "      2.9385738 = idf, computed as log(1 + (N - n + 0.5) / (n + 0.5)) from:\n",
      "        4 = n, number of documents containing term\n",
      "        84 = N, total number of documents with field\n",
      "      0.33093524 = tf, computed as freq / (freq + k1 * (1 - b + b * dl / avgdl)) from:\n",
      "        1.0 = freq, occurrences of term within document\n",
      "        1.2 = k1, term saturation parameter\n",
      "        0.75 = b, length normalization parameter\n",
      "        11.0 = dl, length of field\n",
      "        5.75 = avgdl, average length of field\n",
      "\n",
      "------------\n",
      "Fancy Feast Classic Pate Tender Liver & Chicken Feast Wet Cat Food | FFST CAT FOOD | 1.2417327165603638\n",
      "1.2417327 = sum of:\n",
      "  1.0 = mashed_web:c*h*s*\n",
      "  0.24173269 = weight(web:cat in 22) [BM25Similarity], result of:\n",
      "    0.24173269 = score(freq=1.0), product of:\n",
      "      0.3333333 = boost\n",
      "      2.1913595 = idf, computed as log(1 + (N - n + 0.5) / (n + 0.5)) from:\n",
      "        9 = n, number of documents containing term\n",
      "        84 = N, total number of documents with field\n",
      "      0.33093524 = tf, computed as freq / (freq + k1 * (1 - b + b * dl / avgdl)) from:\n",
      "        1.0 = freq, occurrences of term within document\n",
      "        1.2 = k1, term saturation parameter\n",
      "        0.75 = b, length normalization parameter\n",
      "        11.0 = dl, length of field\n",
      "        5.75 = avgdl, average length of field\n",
      "\n",
      "------------\n",
      "Boar's Head Monterey Jack with Jalapeno Pre-Sliced Cheese | BRHD CHEESE | 1.0\n",
      "1.0 = sum of:\n",
      "  1.0 = mashed_web:c*h*s*\n",
      "\n",
      "------------\n",
      "Cholula Original Hot Sauce | CHOLULA HOT SAUCE | 1.0\n",
      "1.0 = sum of:\n",
      "  1.0 = mashed_web:c*h*s*\n",
      "\n",
      "------------\n",
      "Hefty Storage Slider Bags | HEFTY STORAGE BAG | 1.0\n",
      "1.0 = sum of:\n",
      "  1.0 = mashed_web:s*t*r*\n",
      "\n",
      "------------\n",
      "Kroger® Honey Citrus & Shea Butter Hand Soap Bottle | KRO SOAP | 1.0\n",
      "1.0 = sum of:\n",
      "  1.0 = mashed_web:s*t*r*\n",
      "\n",
      "------------\n",
      "Kroger® Pear & Coconut Hand Soap | KRO PEAR COCONUT | 1.0\n",
      "1.0 = sum of:\n",
      "  1.0 = mashed_web:c*h*s*\n",
      "\n",
      "------------\n",
      "Private Selection™ Grab & Go Muenster Cheese | PRSL MUENSTR | 1.0\n",
      "1.0 = sum of:\n",
      "  0.0 = ConstantScore(web:go)^0.0\n",
      "  1.0 = mashed_web:c*h*s*\n",
      "\n",
      "------------\n",
      "Simple Truth Organic™ Baby Carrots | STO CRT BABY ORGNC | 1.0\n",
      "1.0 = sum of:\n",
      "  1.0 = mashed_web:s*t*r*\n",
      "\n",
      "------------\n",
      "Simple Truth Organic™ Baby Spring Mix | STO BABY SPRING MX | 1.0\n",
      "1.0 = sum of:\n",
      "  1.0 = mashed_web:s*t*r*\n",
      "\n",
      "------------\n",
      "Simple Truth Organic™ Basil | STO BASIL | 1.0\n",
      "1.0 = sum of:\n",
      "  1.0 = mashed_web:s*t*r*\n",
      "\n",
      "------------\n",
      "Simple Truth Organic™ Coconut Milk | STO CCNT MILK | 1.0\n",
      "1.0 = sum of:\n",
      "  1.0 = mashed_web:s*t*r*\n",
      "\n",
      "------------\n",
      "Simple Truth Organic™ Whole Carrots | STO CARROTS ORGNC | 1.0\n",
      "1.0 = sum of:\n",
      "  1.0 = mashed_web:s*t*r*\n",
      "\n",
      "------------\n",
      "Simple Truth™ Pecan Halves | ST PECAN HLV RAW | 1.0\n",
      "1.0 = sum of:\n",
      "  1.0 = mashed_web:s*t*r*\n",
      "\n",
      "------------\n",
      "Smart Chicken Organic Ground Chicken 95% Lean | MBA CHK GROUND | 1.0\n",
      "1.0 = sum of:\n",
      "  1.0 = mashed_web:s*t*r*\n",
      "\n",
      "------------\n",
      "Softsoap Fresh Breeze Liquid Hand Soap | SFTSOAP KTCHN FRSH | 1.0\n",
      "1.0 = sum of:\n",
      "  1.0 = mashed_web:s*t*r*\n",
      "\n",
      "------------\n",
      "Taylor Farms Avocado Ranch Chopped Salad Kit | TYFR SALAD KIT | 1.0\n",
      "1.0 = sum of:\n",
      "  1.0 = mashed_web:c*h*s*\n",
      "\n",
      "------------\n",
      "Nut Pods Hazelnut Unsweetened Dairy-Free Creamer | NUTPODS CREAMER | 0.6657661199569702\n",
      "0.6657661 = sum of:\n",
      "  0.6657661 = weight(web:free in 41) [BM25Similarity], result of:\n",
      "    0.6657661 = score(freq=1.0), product of:\n",
      "      0.5 = boost\n",
      "      3.1898882 = idf, computed as log(1 + (N - n + 0.5) / (n + 0.5)) from:\n",
      "        3 = n, number of documents containing term\n",
      "        84 = N, total number of documents with field\n",
      "      0.41742286 = tf, computed as freq / (freq + k1 * (1 - b + b * dl / avgdl)) from:\n",
      "        1.0 = freq, occurrences of term within document\n",
      "        1.2 = k1, term saturation parameter\n",
      "        0.75 = b, length normalization parameter\n",
      "        7.0 = dl, length of field\n",
      "        5.75 = avgdl, average length of field\n",
      "\n",
      "------------\n",
      "Fancy Feast Classic Pate Cod Sole & Shrimp Feast Wet Cat Food | FFST CAT FOOD | 0.48346537351608276\n",
      "0.48346537 = sum of:\n",
      "  0.24173269 = weight(web:cat in 21) [BM25Similarity], result of:\n",
      "    0.24173269 = score(freq=1.0), product of:\n",
      "      0.3333333 = boost\n",
      "      2.1913595 = idf, computed as log(1 + (N - n + 0.5) / (n + 0.5)) from:\n",
      "        9 = n, number of documents containing term\n",
      "        84 = N, total number of documents with field\n",
      "      0.33093524 = tf, computed as freq / (freq + k1 * (1 - b + b * dl / avgdl)) from:\n",
      "        1.0 = freq, occurrences of term within document\n",
      "        1.2 = k1, term saturation parameter\n",
      "        0.75 = b, length normalization parameter\n",
      "        11.0 = dl, length of field\n",
      "        5.75 = avgdl, average length of field\n",
      "  0.24173269 = weight(web:cod in 21) [BM25Similarity], result of:\n",
      "    0.24173269 = score(freq=1.0), product of:\n",
      "      0.3333333 = boost\n",
      "      2.1913595 = idf, computed as log(1 + (N - n + 0.5) / (n + 0.5)) from:\n",
      "        9 = n, number of documents containing term\n",
      "        84 = N, total number of documents with field\n",
      "      0.33093524 = tf, computed as freq / (freq + k1 * (1 - b + b * dl / avgdl)) from:\n",
      "        1.0 = freq, occurrences of term within document\n",
      "        1.2 = k1, term saturation parameter\n",
      "        0.75 = b, length normalization parameter\n",
      "        11.0 = dl, length of field\n",
      "        5.75 = avgdl, average length of field\n",
      "\n",
      "------------\n",
      "Purina Fancy Feast Classic Pate Savory Salmon Feast Wet Cat Food Can | FFST CAT FOOD | 0.4596558213233948\n",
      "0.45965582 = sum of:\n",
      "  0.22982791 = weight(web:can in 61) [BM25Similarity], result of:\n",
      "    0.22982791 = score(freq=1.0), product of:\n",
      "      0.3333333 = boost\n",
      "      2.1913595 = idf, computed as log(1 + (N - n + 0.5) / (n + 0.5)) from:\n",
      "        9 = n, number of documents containing term\n",
      "        84 = N, total number of documents with field\n",
      "      0.31463745 = tf, computed as freq / (freq + k1 * (1 - b + b * dl / avgdl)) from:\n",
      "        1.0 = freq, occurrences of term within document\n",
      "        1.2 = k1, term saturation parameter\n",
      "        0.75 = b, length normalization parameter\n",
      "        12.0 = dl, length of field\n",
      "        5.75 = avgdl, average length of field\n",
      "  0.22982791 = weight(web:cat in 61) [BM25Similarity], result of:\n",
      "    0.22982791 = score(freq=1.0), product of:\n",
      "      0.3333333 = boost\n",
      "      2.1913595 = idf, computed as log(1 + (N - n + 0.5) / (n + 0.5)) from:\n",
      "        9 = n, number of documents containing term\n",
      "        84 = N, total number of documents with field\n",
      "      0.31463745 = tf, computed as freq / (freq + k1 * (1 - b + b * dl / avgdl)) from:\n",
      "        1.0 = freq, occurrences of term within document\n",
      "        1.2 = k1, term saturation parameter\n",
      "        0.75 = b, length normalization parameter\n",
      "        12.0 = dl, length of field\n",
      "        5.75 = avgdl, average length of field\n",
      "\n",
      "------------\n",
      "Purina Fancy Feast Classic Pate Tender Beef Feast Wet Cat Food Can | FFST CAT FOOD | 0.4596558213233948\n",
      "0.45965582 = sum of:\n",
      "  0.22982791 = weight(web:can in 62) [BM25Similarity], result of:\n",
      "    0.22982791 = score(freq=1.0), product of:\n",
      "      0.3333333 = boost\n",
      "      2.1913595 = idf, computed as log(1 + (N - n + 0.5) / (n + 0.5)) from:\n",
      "        9 = n, number of documents containing term\n",
      "        84 = N, total number of documents with field\n",
      "      0.31463745 = tf, computed as freq / (freq + k1 * (1 - b + b * dl / avgdl)) from:\n",
      "        1.0 = freq, occurrences of term within document\n",
      "        1.2 = k1, term saturation parameter\n",
      "        0.75 = b, length normalization parameter\n",
      "        12.0 = dl, length of field\n",
      "        5.75 = avgdl, average length of field\n",
      "  0.22982791 = weight(web:cat in 62) [BM25Similarity], result of:\n",
      "    0.22982791 = score(freq=1.0), product of:\n",
      "      0.3333333 = boost\n",
      "      2.1913595 = idf, computed as log(1 + (N - n + 0.5) / (n + 0.5)) from:\n",
      "        9 = n, number of documents containing term\n",
      "        84 = N, total number of documents with field\n",
      "      0.31463745 = tf, computed as freq / (freq + k1 * (1 - b + b * dl / avgdl)) from:\n",
      "        1.0 = freq, occurrences of term within document\n",
      "        1.2 = k1, term saturation parameter\n",
      "        0.75 = b, length normalization parameter\n",
      "        12.0 = dl, length of field\n",
      "        5.75 = avgdl, average length of field\n",
      "\n",
      "------------\n",
      "Purina Fancy Feast Minced Turkey Feast in Sauce Wet Cat Food Can | FFST CAT FOOD | 0.4596558213233948\n",
      "0.45965582 = sum of:\n",
      "  0.22982791 = weight(web:can in 63) [BM25Similarity], result of:\n",
      "    0.22982791 = score(freq=1.0), product of:\n",
      "      0.3333333 = boost\n",
      "      2.1913595 = idf, computed as log(1 + (N - n + 0.5) / (n + 0.5)) from:\n",
      "        9 = n, number of documents containing term\n",
      "        84 = N, total number of documents with field\n",
      "      0.31463745 = tf, computed as freq / (freq + k1 * (1 - b + b * dl / avgdl)) from:\n",
      "        1.0 = freq, occurrences of term within document\n",
      "        1.2 = k1, term saturation parameter\n",
      "        0.75 = b, length normalization parameter\n",
      "        12.0 = dl, length of field\n",
      "        5.75 = avgdl, average length of field\n",
      "  0.22982791 = weight(web:cat in 63) [BM25Similarity], result of:\n",
      "    0.22982791 = score(freq=1.0), product of:\n",
      "      0.3333333 = boost\n",
      "      2.1913595 = idf, computed as log(1 + (N - n + 0.5) / (n + 0.5)) from:\n",
      "        9 = n, number of documents containing term\n",
      "        84 = N, total number of documents with field\n",
      "      0.31463745 = tf, computed as freq / (freq + k1 * (1 - b + b * dl / avgdl)) from:\n",
      "        1.0 = freq, occurrences of term within document\n",
      "        1.2 = k1, term saturation parameter\n",
      "        0.75 = b, length normalization parameter\n",
      "        12.0 = dl, length of field\n",
      "        5.75 = avgdl, average length of field\n",
      "\n",
      "------------\n",
      "(LMTD QTY) Essentia Ionized Alkaline Water | ESNT WATER | 0.4374575614929199\n",
      "0.43745756 = sum of:\n",
      "  0.43745756 = weight(web:qty in 0) [BM25Similarity], result of:\n",
      "    0.43745756 = score(freq=1.0), product of:\n",
      "      0.3333333 = boost\n",
      "      2.9385738 = idf, computed as log(1 + (N - n + 0.5) / (n + 0.5)) from:\n",
      "        4 = n, number of documents containing term\n",
      "        84 = N, total number of documents with field\n",
      "      0.44660193 = tf, computed as freq / (freq + k1 * (1 - b + b * dl / avgdl)) from:\n",
      "        1.0 = freq, occurrences of term within document\n",
      "        1.2 = k1, term saturation parameter\n",
      "        0.75 = b, length normalization parameter\n",
      "        6.0 = dl, length of field\n",
      "        5.75 = avgdl, average length of field\n",
      "\n",
      "------------\n",
      "(LMTD QTY) FIJI Natural Artesian Water | FIJI WATER | 0.4374575614929199\n",
      "0.43745756 = sum of:\n",
      "  0.43745756 = weight(web:qty in 1) [BM25Similarity], result of:\n",
      "    0.43745756 = score(freq=1.0), product of:\n",
      "      0.3333333 = boost\n",
      "      2.9385738 = idf, computed as log(1 + (N - n + 0.5) / (n + 0.5)) from:\n",
      "        4 = n, number of documents containing term\n",
      "        84 = N, total number of documents with field\n",
      "      0.44660193 = tf, computed as freq / (freq + k1 * (1 - b + b * dl / avgdl)) from:\n",
      "        1.0 = freq, occurrences of term within document\n",
      "        1.2 = k1, term saturation parameter\n",
      "        0.75 = b, length normalization parameter\n",
      "        6.0 = dl, length of field\n",
      "        5.75 = avgdl, average length of field\n",
      "\n",
      "------------\n",
      "Atkins Endulge Chocolate Coconut Treat Bar | ATKINS BARS | 0.4374575614929199\n",
      "0.43745756 = sum of:\n",
      "  0.43745756 = weight(web:bar in 8) [BM25Similarity], result of:\n",
      "    0.43745756 = score(freq=1.0), product of:\n",
      "      0.3333333 = boost\n",
      "      2.9385738 = idf, computed as log(1 + (N - n + 0.5) / (n + 0.5)) from:\n",
      "        4 = n, number of documents containing term\n",
      "        84 = N, total number of documents with field\n",
      "      0.44660193 = tf, computed as freq / (freq + k1 * (1 - b + b * dl / avgdl)) from:\n",
      "        1.0 = freq, occurrences of term within document\n",
      "        1.2 = k1, term saturation parameter\n",
      "        0.75 = b, length normalization parameter\n",
      "        6.0 = dl, length of field\n",
      "        5.75 = avgdl, average length of field\n",
      "\n",
      "------------\n",
      "$000.10 CRV DEPOSIT | CA REDEM VAL | 0.4127867817878723\n",
      "0.41278678 = sum of:\n",
      "  0.41278678 = weight(web:crv in 4) [BM25Similarity], result of:\n",
      "    0.41278678 = score(freq=1.0), product of:\n",
      "      0.3333333 = boost\n",
      "      2.1913595 = idf, computed as log(1 + (N - n + 0.5) / (n + 0.5)) from:\n",
      "        9 = n, number of documents containing term\n",
      "        84 = N, total number of documents with field\n",
      "      0.56511056 = tf, computed as freq / (freq + k1 * (1 - b + b * dl / avgdl)) from:\n",
      "        1.0 = freq, occurrences of term within document\n",
      "        1.2 = k1, term saturation parameter\n",
      "        0.75 = b, length normalization parameter\n",
      "        3.0 = dl, length of field\n",
      "        5.75 = avgdl, average length of field\n",
      "\n",
      "------------\n",
      "$000.10 CRV DEPOSIT | CA REDEM VAL | 0.4127867817878723\n",
      "0.41278678 = sum of:\n",
      "  0.41278678 = weight(web:crv in 5) [BM25Similarity], result of:\n",
      "    0.41278678 = score(freq=1.0), product of:\n",
      "      0.3333333 = boost\n",
      "      2.1913595 = idf, computed as log(1 + (N - n + 0.5) / (n + 0.5)) from:\n",
      "        9 = n, number of documents containing term\n",
      "        84 = N, total number of documents with field\n",
      "      0.56511056 = tf, computed as freq / (freq + k1 * (1 - b + b * dl / avgdl)) from:\n",
      "        1.0 = freq, occurrences of term within document\n",
      "        1.2 = k1, term saturation parameter\n",
      "        0.75 = b, length normalization parameter\n",
      "        3.0 = dl, length of field\n",
      "        5.75 = avgdl, average length of field\n",
      "\n",
      "------------\n",
      "Organic - Tomatoes - On the Vine | TOMATO ORGNC | 0.3507394790649414\n",
      "0.35073948 = sum of:\n",
      "  0.35073948 = weight(web:the in 52) [BM25Similarity], result of:\n",
      "    0.35073948 = score(freq=1.0), product of:\n",
      "      0.3333333 = boost\n",
      "      2.1913595 = idf, computed as log(1 + (N - n + 0.5) / (n + 0.5)) from:\n",
      "        9 = n, number of documents containing term\n",
      "        84 = N, total number of documents with field\n",
      "      0.48016697 = tf, computed as freq / (freq + k1 * (1 - b + b * dl / avgdl)) from:\n",
      "        1.0 = freq, occurrences of term within document\n",
      "        1.2 = k1, term saturation parameter\n",
      "        0.75 = b, length normalization parameter\n",
      "        5.0 = dl, length of field\n",
      "        5.75 = avgdl, average length of field\n",
      "\n",
      "------------\n",
      "ABOUND™ Natural Clumping Cat Litter | ABOUND CAT LITTER | 0.326221764087677\n",
      "0.32622176 = sum of:\n",
      "  0.32622176 = weight(web:cat in 6) [BM25Similarity], result of:\n",
      "    0.32622176 = score(freq=1.0), product of:\n",
      "      0.3333333 = boost\n",
      "      2.1913595 = idf, computed as log(1 + (N - n + 0.5) / (n + 0.5)) from:\n",
      "        9 = n, number of documents containing term\n",
      "        84 = N, total number of documents with field\n",
      "      0.44660193 = tf, computed as freq / (freq + k1 * (1 - b + b * dl / avgdl)) from:\n",
      "        1.0 = freq, occurrences of term within document\n",
      "        1.2 = k1, term saturation parameter\n",
      "        0.75 = b, length normalization parameter\n",
      "        6.0 = dl, length of field\n",
      "        5.75 = avgdl, average length of field\n",
      "\n",
      "------------\n",
      "Kroger® Romaine Leaf Single Cut Leaf | KRO ROMAINE | 0.30490782856941223\n",
      "0.30490783 = sum of:\n",
      "  0.30490783 = weight(web:cut in 31) [BM25Similarity], result of:\n",
      "    0.30490783 = score(freq=1.0), product of:\n",
      "      0.3333333 = boost\n",
      "      2.1913595 = idf, computed as log(1 + (N - n + 0.5) / (n + 0.5)) from:\n",
      "        9 = n, number of documents containing term\n",
      "        84 = N, total number of documents with field\n",
      "      0.41742286 = tf, computed as freq / (freq + k1 * (1 - b + b * dl / avgdl)) from:\n",
      "        1.0 = freq, occurrences of term within document\n",
      "        1.2 = k1, term saturation parameter\n",
      "        0.75 = b, length normalization parameter\n",
      "        7.0 = dl, length of field\n",
      "        5.75 = avgdl, average length of field\n",
      "\n",
      "------------\n",
      "Beyond Meat The Beyond Burger Plant-Based Burger Patties | BYND BURGER | 0.26966971158981323\n",
      "0.2696697 = sum of:\n",
      "  0.2696697 = weight(web:the in 12) [BM25Similarity], result of:\n",
      "    0.2696697 = score(freq=1.0), product of:\n",
      "      0.3333333 = boost\n",
      "      2.1913595 = idf, computed as log(1 + (N - n + 0.5) / (n + 0.5)) from:\n",
      "        9 = n, number of documents containing term\n",
      "        84 = N, total number of documents with field\n",
      "      0.3691814 = tf, computed as freq / (freq + k1 * (1 - b + b * dl / avgdl)) from:\n",
      "        1.0 = freq, occurrences of term within document\n",
      "        1.2 = k1, term saturation parameter\n",
      "        0.75 = b, length normalization parameter\n",
      "        9.0 = dl, length of field\n",
      "        5.75 = avgdl, average length of field\n",
      "\n",
      "------------\n",
      "Fancy Feast Flaked Fish & Shrimp Feast Wet Cat Food | FFST CAT FOOD | 0.26966971158981323\n",
      "0.2696697 = sum of:\n",
      "  0.2696697 = weight(web:cat in 23) [BM25Similarity], result of:\n",
      "    0.2696697 = score(freq=1.0), product of:\n",
      "      0.3333333 = boost\n",
      "      2.1913595 = idf, computed as log(1 + (N - n + 0.5) / (n + 0.5)) from:\n",
      "        9 = n, number of documents containing term\n",
      "        84 = N, total number of documents with field\n",
      "      0.3691814 = tf, computed as freq / (freq + k1 * (1 - b + b * dl / avgdl)) from:\n",
      "        1.0 = freq, occurrences of term within document\n",
      "        1.2 = k1, term saturation parameter\n",
      "        0.75 = b, length normalization parameter\n",
      "        9.0 = dl, length of field\n",
      "        5.75 = avgdl, average length of field\n",
      "\n",
      "------------\n",
      "MEAT FS | MEAT FS | 0.0\n",
      "0.0 = sum of:\n",
      "  0.0 = ConstantScore(web:fs)^0.0\n",
      "\n",
      "------------\n",
      "MEAT FS | MEAT FS | 0.0\n",
      "0.0 = sum of:\n",
      "  0.0 = ConstantScore(web:fs)^0.0\n",
      "\n",
      "------------\n",
      "Private Selection™ Grab & Go Maple Turkey Breast | PRSL MPL TKY GNG | 0.0\n",
      "0.0 = sum of:\n",
      "  0.0 = ConstantScore(web:go)^0.0\n",
      "\n",
      "------------\n"
     ]
    }
   ],
   "source": [
    "ss.explain(fmwqm.make_query('FRGO STR CHS'))"
   ]
  },
  {
   "cell_type": "markdown",
   "metadata": {},
   "source": [
    "Note above matches a stop word `(web:for)`\n",
    "Maybe eliminating stop words could help"
   ]
  },
  {
   "cell_type": "code",
   "execution_count": 45,
   "metadata": {},
   "outputs": [
    {
     "data": {
      "text/plain": [
       "<Document: Document<stored,indexed,tokenized,indexOptions=DOCS_AND_FREQS<raw:FRGO STR CHS> stored,indexed,tokenized<web:Frigo Cheese Heads Low Moisture Part Skim Original Mozzarella String Cheese> stored,indexed,tokenized<mashed_web:FrigoCheeseHeadsLowMoisturePartSkimOriginalMozzarellaStringCheese CheeseHeadsLowMoisturePartSkimOriginalMozzarellaStringCheese HeadsLowMoisturePartSkimOriginalMozzarellaStringCheese LowMoisturePartSkimOriginalMozzarellaStringCheese MoisturePartSkimOriginalMozzarellaStringCheese PartSkimOriginalMozzarellaStringCheese SkimOriginalMozzarellaStringCheese OriginalMozzarellaStringCheese MozzarellaStringCheese StringCheese Cheese> stored<id:4171623216>>>"
      ]
     },
     "execution_count": 45,
     "metadata": {},
     "output_type": "execute_result"
    }
   ],
   "source": [
    "ss.search(mwqm.make_query('FRGO STR CHS'))[0]"
   ]
  },
  {
   "cell_type": "code",
   "execution_count": 46,
   "metadata": {},
   "outputs": [
    {
     "data": {
      "text/plain": [
       "'mashed_web:f*r*g*o* frgo~ mashed_web:s*t*r* str~ mashed_web:c*h*s* chs~'"
      ]
     },
     "execution_count": 46,
     "metadata": {},
     "output_type": "execute_result"
    }
   ],
   "source": [
    "fmwqm.make_query('FRGO STR CHS')"
   ]
  },
  {
   "cell_type": "markdown",
   "metadata": {},
   "source": [
    "OCEANS HALO BROTH matches Pero Organic Green Beans\n",
    "* o*c*e*a*n*s* matches OrganiC green bEANS - this would have been eliminated using ngrams"
   ]
  },
  {
   "cell_type": "code",
   "execution_count": 52,
   "metadata": {},
   "outputs": [
    {
     "name": "stdout",
     "output_type": "stream",
     "text": [
      "mashed_web:o*c*e*a*n*s* oceans~ mashed_web:h*a*l*o* halo~ broth\n",
      "Pero Organic Green Beans | GREEN BEANS ORGNC | 2.257633686065674\n",
      "2.2576337 = sum of:\n",
      "  1.0 = mashed_web:o*c*e*a*n*s*\n",
      "  1.2576336 = weight(web:beans in 56) [BM25Similarity], result of:\n",
      "    1.2576336 = score(freq=1.0), product of:\n",
      "      0.6 = boost\n",
      "      4.037186 = idf, computed as log(1 + (N - n + 0.5) / (n + 0.5)) from:\n",
      "        1 = n, number of documents containing term\n",
      "        84 = N, total number of documents with field\n",
      "      0.51918733 = tf, computed as freq / (freq + k1 * (1 - b + b * dl / avgdl)) from:\n",
      "        1.0 = freq, occurrences of term within document\n",
      "        1.2 = k1, term saturation parameter\n",
      "        0.75 = b, length normalization parameter\n",
      "        4.0 = dl, length of field\n",
      "        5.75 = avgdl, average length of field\n",
      "\n",
      "------------\n",
      "NO CHICKEN BROTH TETRA | OCEANS HALO BROTH | 1.8308416604995728\n",
      "1.8308417 = sum of:\n",
      "  1.8308417 = weight(web:broth in 40) [BM25Similarity], result of:\n",
      "    1.8308417 = score(freq=1.0), product of:\n",
      "      3.5263605 = idf, computed as log(1 + (N - n + 0.5) / (n + 0.5)) from:\n",
      "        2 = n, number of documents containing term\n",
      "        84 = N, total number of documents with field\n",
      "      0.51918733 = tf, computed as freq / (freq + k1 * (1 - b + b * dl / avgdl)) from:\n",
      "        1.0 = freq, occurrences of term within document\n",
      "        1.2 = k1, term saturation parameter\n",
      "        0.75 = b, length normalization parameter\n",
      "        4.0 = dl, length of field\n",
      "        5.75 = avgdl, average length of field\n",
      "\n",
      "------------\n",
      "Softsoap Kitchen Fresh Hands Citrus Extracts Antibacterial Hand Soap | SFTSOAP KTCHN FRSH | 1.5424333810806274\n",
      "1.5424334 = sum of:\n",
      "  1.0 = mashed_web:h*a*l*o*\n",
      "  0.5424334 = weight(web:hand in 77) [BM25Similarity], result of:\n",
      "    0.5424334 = score(freq=1.0), product of:\n",
      "      0.5 = boost\n",
      "      2.9385738 = idf, computed as log(1 + (N - n + 0.5) / (n + 0.5)) from:\n",
      "        4 = n, number of documents containing term\n",
      "        84 = N, total number of documents with field\n",
      "      0.3691814 = tf, computed as freq / (freq + k1 * (1 - b + b * dl / avgdl)) from:\n",
      "        1.0 = freq, occurrences of term within document\n",
      "        1.2 = k1, term saturation parameter\n",
      "        0.75 = b, length normalization parameter\n",
      "        9.0 = dl, length of field\n",
      "        5.75 = avgdl, average length of field\n",
      "\n",
      "------------\n",
      "Simple Truth Organic™ Fat Free Free Range Chicken Broth | STO BROTH | 1.2307478189468384\n",
      "1.2307478 = sum of:\n",
      "  1.2307478 = weight(web:broth in 70) [BM25Similarity], result of:\n",
      "    1.2307478 = score(freq=1.0), product of:\n",
      "      3.5263605 = idf, computed as log(1 + (N - n + 0.5) / (n + 0.5)) from:\n",
      "        2 = n, number of documents containing term\n",
      "        84 = N, total number of documents with field\n",
      "      0.34901363 = tf, computed as freq / (freq + k1 * (1 - b + b * dl / avgdl)) from:\n",
      "        1.0 = freq, occurrences of term within document\n",
      "        1.2 = k1, term saturation parameter\n",
      "        0.75 = b, length normalization parameter\n",
      "        10.0 = dl, length of field\n",
      "        5.75 = avgdl, average length of field\n",
      "\n",
      "------------\n",
      "Boar's Head Monterey Jack with Jalapeno Pre-Sliced Cheese | BRHD CHEESE | 1.0\n",
      "1.0 = sum of:\n",
      "  1.0 = mashed_web:h*a*l*o*\n",
      "\n",
      "------------\n",
      "Frigo Cheese Heads Low Moisture Part Skim Original Mozzarella String Cheese | FRGO STR CHS | 1.0\n",
      "1.0 = sum of:\n",
      "  1.0 = mashed_web:h*a*l*o*\n",
      "\n",
      "------------\n",
      "Mountain High Plain Original Whole Milk Yoghurt | MOUNTAIN HGH YOGRT | 1.0\n",
      "1.0 = sum of:\n",
      "  1.0 = mashed_web:h*a*l*o*\n",
      "\n",
      "------------\n",
      "Purina Fancy Feast Sliced Chicken Hearts & Liver Feast in Gravy Wet Cat Food Can | FFST CAT FOOD | 1.0\n",
      "1.0 = sum of:\n",
      "  1.0 = mashed_web:h*a*l*o*\n",
      "\n",
      "------------\n",
      "Del Cabo Cucumber Og 16 Oz | CUCUMBERS | 0.6561863422393799\n",
      "0.65618634 = sum of:\n",
      "  0.65618634 = weight(web:cabo in 19) [BM25Similarity], result of:\n",
      "    0.65618634 = score(freq=1.0), product of:\n",
      "      0.5 = boost\n",
      "      2.9385738 = idf, computed as log(1 + (N - n + 0.5) / (n + 0.5)) from:\n",
      "        4 = n, number of documents containing term\n",
      "        84 = N, total number of documents with field\n",
      "      0.44660193 = tf, computed as freq / (freq + k1 * (1 - b + b * dl / avgdl)) from:\n",
      "        1.0 = freq, occurrences of term within document\n",
      "        1.2 = k1, term saturation parameter\n",
      "        0.75 = b, length normalization parameter\n",
      "        6.0 = dl, length of field\n",
      "        5.75 = avgdl, average length of field\n",
      "\n",
      "------------\n",
      "Earthwise Palm Trees Reusable Shopping Bag | PALM SHOPPING BAGS | 0.6561863422393799\n",
      "0.65618634 = sum of:\n",
      "  0.65618634 = weight(web:palm in 20) [BM25Similarity], result of:\n",
      "    0.65618634 = score(freq=1.0), product of:\n",
      "      0.5 = boost\n",
      "      2.9385738 = idf, computed as log(1 + (N - n + 0.5) / (n + 0.5)) from:\n",
      "        4 = n, number of documents containing term\n",
      "        84 = N, total number of documents with field\n",
      "      0.44660193 = tf, computed as freq / (freq + k1 * (1 - b + b * dl / avgdl)) from:\n",
      "        1.0 = freq, occurrences of term within document\n",
      "        1.2 = k1, term saturation parameter\n",
      "        0.75 = b, length normalization parameter\n",
      "        6.0 = dl, length of field\n",
      "        5.75 = avgdl, average length of field\n",
      "\n",
      "------------\n",
      "Kroger® Pear & Coconut Hand Soap | KRO PEAR COCONUT | 0.6561863422393799\n",
      "0.65618634 = sum of:\n",
      "  0.65618634 = weight(web:hand in 29) [BM25Similarity], result of:\n",
      "    0.65618634 = score(freq=1.0), product of:\n",
      "      0.5 = boost\n",
      "      2.9385738 = idf, computed as log(1 + (N - n + 0.5) / (n + 0.5)) from:\n",
      "        4 = n, number of documents containing term\n",
      "        84 = N, total number of documents with field\n",
      "      0.44660193 = tf, computed as freq / (freq + k1 * (1 - b + b * dl / avgdl)) from:\n",
      "        1.0 = freq, occurrences of term within document\n",
      "        1.2 = k1, term saturation parameter\n",
      "        0.75 = b, length normalization parameter\n",
      "        6.0 = dl, length of field\n",
      "        5.75 = avgdl, average length of field\n",
      "\n",
      "------------\n",
      "Softsoap Fresh Breeze Liquid Hand Soap | SFTSOAP KTCHN FRSH | 0.6561863422393799\n",
      "0.65618634 = sum of:\n",
      "  0.65618634 = weight(web:hand in 76) [BM25Similarity], result of:\n",
      "    0.65618634 = score(freq=1.0), product of:\n",
      "      0.5 = boost\n",
      "      2.9385738 = idf, computed as log(1 + (N - n + 0.5) / (n + 0.5)) from:\n",
      "        4 = n, number of documents containing term\n",
      "        84 = N, total number of documents with field\n",
      "      0.44660193 = tf, computed as freq / (freq + k1 * (1 - b + b * dl / avgdl)) from:\n",
      "        1.0 = freq, occurrences of term within document\n",
      "        1.2 = k1, term saturation parameter\n",
      "        0.75 = b, length normalization parameter\n",
      "        6.0 = dl, length of field\n",
      "        5.75 = avgdl, average length of field\n",
      "\n",
      "------------\n",
      "Simple Truth™ Sea Salt Roasted Cashews | ST CASHEWS RS | 0.6133139729499817\n",
      "0.613314 = sum of:\n",
      "  0.613314 = weight(web:salt in 74) [BM25Similarity], result of:\n",
      "    0.613314 = score(freq=1.0), product of:\n",
      "      0.5 = boost\n",
      "      2.9385738 = idf, computed as log(1 + (N - n + 0.5) / (n + 0.5)) from:\n",
      "        4 = n, number of documents containing term\n",
      "        84 = N, total number of documents with field\n",
      "      0.41742286 = tf, computed as freq / (freq + k1 * (1 - b + b * dl / avgdl)) from:\n",
      "        1.0 = freq, occurrences of term within document\n",
      "        1.2 = k1, term saturation parameter\n",
      "        0.75 = b, length normalization parameter\n",
      "        7.0 = dl, length of field\n",
      "        5.75 = avgdl, average length of field\n",
      "\n",
      "------------\n",
      "Kroger® Honey Citrus & Shea Butter Hand Soap Bottle | KRO SOAP | 0.5424333810806274\n",
      "0.5424334 = sum of:\n",
      "  0.5424334 = weight(web:hand in 27) [BM25Similarity], result of:\n",
      "    0.5424334 = score(freq=1.0), product of:\n",
      "      0.5 = boost\n",
      "      2.9385738 = idf, computed as log(1 + (N - n + 0.5) / (n + 0.5)) from:\n",
      "        4 = n, number of documents containing term\n",
      "        84 = N, total number of documents with field\n",
      "      0.3691814 = tf, computed as freq / (freq + k1 * (1 - b + b * dl / avgdl)) from:\n",
      "        1.0 = freq, occurrences of term within document\n",
      "        1.2 = k1, term saturation parameter\n",
      "        0.75 = b, length normalization parameter\n",
      "        9.0 = dl, length of field\n",
      "        5.75 = avgdl, average length of field\n",
      "\n",
      "------------\n"
     ]
    }
   ],
   "source": [
    "ss.explain(fmwqm.make_query('OCEANS HALO BROTH'))"
   ]
  },
  {
   "cell_type": "markdown",
   "metadata": {},
   "source": [
    "## TODO 2020_05_01\n",
    "* Improve receipt collocations to eliminate hyphens, blanks, and dashes\n",
    "* Enhance index with 2 new fields- bigrams and trigrams\n",
    "* Create new nwqm - a competitor for mwqm - that matches against ngram fields instead of mashed.  nwqm stands for Ngram wildcard matcher\n",
    "* Instead of doing wildcard matching on mashed wildcard field, do against bigram and trigram fields\n",
    "* Create fnwqm - fuzzy ngram wildcard query maker\n",
    "* expected ordering: mwqm < nwqm < fmwqm < fnwqm"
   ]
  },
  {
   "cell_type": "markdown",
   "metadata": {},
   "source": [
    "## TODO\n",
    "* Read Deep Learning + Search chapters to see how they handle synonyms\n",
    "* ReRun word2vec notebook\n",
    "* Train/test word2vec on some big data\n",
    "* Train/test word2vec on the receipt data\n",
    "* Figure out how to integrate wordnet\n",
    "* Maybe: index json data into lucene including receipt Id, product id etc.  Use as a basis for data manipulation instead of dataframes\n",
    "* Get latest receipt data\n",
    "* Detailed query.explain() to figure out why we're still missing and missing more on fmwqm.  Also why can't we AND the mwqm queries?\n",
    "* more data (divide receipts into dev and test)\n",
    "* instead of wildcrad matching on concatenation of entire web phrase, do bigrams, trigrams, 4-grams (maybe)\n",
    "* synonyms\n",
    "  * wordnet\n",
    "  * word2vec"
   ]
  },
  {
   "cell_type": "code",
   "execution_count": null,
   "metadata": {},
   "outputs": [],
   "source": []
  }
 ],
 "metadata": {
  "kernelspec": {
   "display_name": "Python 3",
   "language": "python",
   "name": "python3"
  },
  "language_info": {
   "codemirror_mode": {
    "name": "ipython",
    "version": 3
   },
   "file_extension": ".py",
   "mimetype": "text/x-python",
   "name": "python",
   "nbconvert_exporter": "python",
   "pygments_lexer": "ipython3",
   "version": "3.7.7"
  }
 },
 "nbformat": 4,
 "nbformat_minor": 4
}
